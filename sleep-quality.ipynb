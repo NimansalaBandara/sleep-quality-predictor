{
 "cells": [
  {
   "cell_type": "markdown",
   "id": "f3f40a2f",
   "metadata": {
    "_cell_guid": "b1076dfc-b9ad-4769-8c92-a6c4dae69d19",
    "_uuid": "8f2839f25d086af736a60e9eeb907d3b93b6e0e5",
    "papermill": {
     "duration": 0.010702,
     "end_time": "2025-08-08T14:31:23.458410",
     "exception": false,
     "start_time": "2025-08-08T14:31:23.447708",
     "status": "completed"
    },
    "tags": []
   },
   "source": [
    "# Project Description"
   ]
  },
  {
   "cell_type": "markdown",
   "id": "cd01b7b9",
   "metadata": {
    "papermill": {
     "duration": 0.008954,
     "end_time": "2025-08-08T14:31:23.476607",
     "exception": false,
     "start_time": "2025-08-08T14:31:23.467653",
     "status": "completed"
    },
    "tags": []
   },
   "source": [
    "**I'm developing a machine learning model to predict sleep quality (good or bad) using data collected from Fitbit devices. The model analyzes key activity and health related features such as active minutes, distance, and calories burned to determine overall sleep quality.**"
   ]
  },
  {
   "cell_type": "markdown",
   "id": "f56d9a87",
   "metadata": {
    "papermill": {
     "duration": 0.009504,
     "end_time": "2025-08-08T14:31:23.495149",
     "exception": false,
     "start_time": "2025-08-08T14:31:23.485645",
     "status": "completed"
    },
    "tags": []
   },
   "source": [
    "# Import Dependencies"
   ]
  },
  {
   "cell_type": "code",
   "execution_count": 1,
   "id": "4fb7de30",
   "metadata": {
    "execution": {
     "iopub.execute_input": "2025-08-08T14:31:23.516853Z",
     "iopub.status.busy": "2025-08-08T14:31:23.516405Z",
     "iopub.status.idle": "2025-08-08T14:31:29.007261Z",
     "shell.execute_reply": "2025-08-08T14:31:29.006067Z"
    },
    "papermill": {
     "duration": 5.504921,
     "end_time": "2025-08-08T14:31:29.009566",
     "exception": false,
     "start_time": "2025-08-08T14:31:23.504645",
     "status": "completed"
    },
    "tags": []
   },
   "outputs": [],
   "source": [
    "import pandas as pd\n",
    "from sklearn.model_selection import train_test_split\n",
    "from sklearn.ensemble import RandomForestClassifier\n",
    "from sklearn.metrics import classification_report, confusion_matrix, accuracy_score\n",
    "from sklearn.preprocessing import StandardScaler\n",
    "from sklearn.linear_model import LogisticRegression\n",
    "from sklearn.feature_selection import SelectKBest, f_classif\n",
    "from sklearn.svm import SVC\n",
    "from xgboost import XGBClassifier\n",
    "import seaborn as sns\n",
    "import matplotlib.pyplot as plt\n",
    "from sklearn.model_selection import cross_val_score\n",
    "\n"
   ]
  },
  {
   "cell_type": "markdown",
   "id": "9dcfec94",
   "metadata": {
    "papermill": {
     "duration": 0.010605,
     "end_time": "2025-08-08T14:31:29.031089",
     "exception": false,
     "start_time": "2025-08-08T14:31:29.020484",
     "status": "completed"
    },
    "tags": []
   },
   "source": [
    "# Data Collection"
   ]
  },
  {
   "cell_type": "code",
   "execution_count": 2,
   "id": "7d107db0",
   "metadata": {
    "execution": {
     "iopub.execute_input": "2025-08-08T14:31:29.052412Z",
     "iopub.status.busy": "2025-08-08T14:31:29.051832Z",
     "iopub.status.idle": "2025-08-08T14:31:29.151204Z",
     "shell.execute_reply": "2025-08-08T14:31:29.149966Z"
    },
    "papermill": {
     "duration": 0.112176,
     "end_time": "2025-08-08T14:31:29.153094",
     "exception": false,
     "start_time": "2025-08-08T14:31:29.040918",
     "status": "completed"
    },
    "tags": []
   },
   "outputs": [
    {
     "name": "stderr",
     "output_type": "stream",
     "text": [
      "/tmp/ipykernel_13/1278729107.py:7: UserWarning: Could not infer format, so each element will be parsed individually, falling back to `dateutil`. To ensure parsing is consistent and as-expected, please specify a format.\n",
      "  sleep['SleepDay'] = pd.to_datetime(sleep['SleepDay'])\n"
     ]
    },
    {
     "data": {
      "text/html": [
       "<div>\n",
       "<style scoped>\n",
       "    .dataframe tbody tr th:only-of-type {\n",
       "        vertical-align: middle;\n",
       "    }\n",
       "\n",
       "    .dataframe tbody tr th {\n",
       "        vertical-align: top;\n",
       "    }\n",
       "\n",
       "    .dataframe thead th {\n",
       "        text-align: right;\n",
       "    }\n",
       "</style>\n",
       "<table border=\"1\" class=\"dataframe\">\n",
       "  <thead>\n",
       "    <tr style=\"text-align: right;\">\n",
       "      <th></th>\n",
       "      <th>Id</th>\n",
       "      <th>ActivityDate</th>\n",
       "      <th>TotalSteps</th>\n",
       "      <th>TotalDistance</th>\n",
       "      <th>TrackerDistance</th>\n",
       "      <th>LoggedActivitiesDistance</th>\n",
       "      <th>VeryActiveDistance</th>\n",
       "      <th>ModeratelyActiveDistance</th>\n",
       "      <th>LightActiveDistance</th>\n",
       "      <th>SedentaryActiveDistance</th>\n",
       "      <th>VeryActiveMinutes</th>\n",
       "      <th>FairlyActiveMinutes</th>\n",
       "      <th>LightlyActiveMinutes</th>\n",
       "      <th>SedentaryMinutes</th>\n",
       "      <th>Calories</th>\n",
       "      <th>TotalSleepRecords</th>\n",
       "      <th>TotalMinutesAsleep</th>\n",
       "      <th>TotalTimeInBed</th>\n",
       "    </tr>\n",
       "  </thead>\n",
       "  <tbody>\n",
       "    <tr>\n",
       "      <th>0</th>\n",
       "      <td>1503960366</td>\n",
       "      <td>2016-04-12</td>\n",
       "      <td>13162</td>\n",
       "      <td>8.50</td>\n",
       "      <td>8.50</td>\n",
       "      <td>0.0</td>\n",
       "      <td>1.88</td>\n",
       "      <td>0.55</td>\n",
       "      <td>6.06</td>\n",
       "      <td>0.0</td>\n",
       "      <td>25</td>\n",
       "      <td>13</td>\n",
       "      <td>328</td>\n",
       "      <td>728</td>\n",
       "      <td>1985</td>\n",
       "      <td>1</td>\n",
       "      <td>327</td>\n",
       "      <td>346</td>\n",
       "    </tr>\n",
       "    <tr>\n",
       "      <th>1</th>\n",
       "      <td>1503960366</td>\n",
       "      <td>2016-04-13</td>\n",
       "      <td>10735</td>\n",
       "      <td>6.97</td>\n",
       "      <td>6.97</td>\n",
       "      <td>0.0</td>\n",
       "      <td>1.57</td>\n",
       "      <td>0.69</td>\n",
       "      <td>4.71</td>\n",
       "      <td>0.0</td>\n",
       "      <td>21</td>\n",
       "      <td>19</td>\n",
       "      <td>217</td>\n",
       "      <td>776</td>\n",
       "      <td>1797</td>\n",
       "      <td>2</td>\n",
       "      <td>384</td>\n",
       "      <td>407</td>\n",
       "    </tr>\n",
       "    <tr>\n",
       "      <th>2</th>\n",
       "      <td>1503960366</td>\n",
       "      <td>2016-04-15</td>\n",
       "      <td>9762</td>\n",
       "      <td>6.28</td>\n",
       "      <td>6.28</td>\n",
       "      <td>0.0</td>\n",
       "      <td>2.14</td>\n",
       "      <td>1.26</td>\n",
       "      <td>2.83</td>\n",
       "      <td>0.0</td>\n",
       "      <td>29</td>\n",
       "      <td>34</td>\n",
       "      <td>209</td>\n",
       "      <td>726</td>\n",
       "      <td>1745</td>\n",
       "      <td>1</td>\n",
       "      <td>412</td>\n",
       "      <td>442</td>\n",
       "    </tr>\n",
       "    <tr>\n",
       "      <th>3</th>\n",
       "      <td>1503960366</td>\n",
       "      <td>2016-04-16</td>\n",
       "      <td>12669</td>\n",
       "      <td>8.16</td>\n",
       "      <td>8.16</td>\n",
       "      <td>0.0</td>\n",
       "      <td>2.71</td>\n",
       "      <td>0.41</td>\n",
       "      <td>5.04</td>\n",
       "      <td>0.0</td>\n",
       "      <td>36</td>\n",
       "      <td>10</td>\n",
       "      <td>221</td>\n",
       "      <td>773</td>\n",
       "      <td>1863</td>\n",
       "      <td>2</td>\n",
       "      <td>340</td>\n",
       "      <td>367</td>\n",
       "    </tr>\n",
       "    <tr>\n",
       "      <th>4</th>\n",
       "      <td>1503960366</td>\n",
       "      <td>2016-04-17</td>\n",
       "      <td>9705</td>\n",
       "      <td>6.48</td>\n",
       "      <td>6.48</td>\n",
       "      <td>0.0</td>\n",
       "      <td>3.19</td>\n",
       "      <td>0.78</td>\n",
       "      <td>2.51</td>\n",
       "      <td>0.0</td>\n",
       "      <td>38</td>\n",
       "      <td>20</td>\n",
       "      <td>164</td>\n",
       "      <td>539</td>\n",
       "      <td>1728</td>\n",
       "      <td>1</td>\n",
       "      <td>700</td>\n",
       "      <td>712</td>\n",
       "    </tr>\n",
       "  </tbody>\n",
       "</table>\n",
       "</div>"
      ],
      "text/plain": [
       "           Id ActivityDate  TotalSteps  TotalDistance  TrackerDistance  \\\n",
       "0  1503960366   2016-04-12       13162           8.50             8.50   \n",
       "1  1503960366   2016-04-13       10735           6.97             6.97   \n",
       "2  1503960366   2016-04-15        9762           6.28             6.28   \n",
       "3  1503960366   2016-04-16       12669           8.16             8.16   \n",
       "4  1503960366   2016-04-17        9705           6.48             6.48   \n",
       "\n",
       "   LoggedActivitiesDistance  VeryActiveDistance  ModeratelyActiveDistance  \\\n",
       "0                       0.0                1.88                      0.55   \n",
       "1                       0.0                1.57                      0.69   \n",
       "2                       0.0                2.14                      1.26   \n",
       "3                       0.0                2.71                      0.41   \n",
       "4                       0.0                3.19                      0.78   \n",
       "\n",
       "   LightActiveDistance  SedentaryActiveDistance  VeryActiveMinutes  \\\n",
       "0                 6.06                      0.0                 25   \n",
       "1                 4.71                      0.0                 21   \n",
       "2                 2.83                      0.0                 29   \n",
       "3                 5.04                      0.0                 36   \n",
       "4                 2.51                      0.0                 38   \n",
       "\n",
       "   FairlyActiveMinutes  LightlyActiveMinutes  SedentaryMinutes  Calories  \\\n",
       "0                   13                   328               728      1985   \n",
       "1                   19                   217               776      1797   \n",
       "2                   34                   209               726      1745   \n",
       "3                   10                   221               773      1863   \n",
       "4                   20                   164               539      1728   \n",
       "\n",
       "   TotalSleepRecords  TotalMinutesAsleep  TotalTimeInBed  \n",
       "0                  1                 327             346  \n",
       "1                  2                 384             407  \n",
       "2                  1                 412             442  \n",
       "3                  2                 340             367  \n",
       "4                  1                 700             712  "
      ]
     },
     "execution_count": 2,
     "metadata": {},
     "output_type": "execute_result"
    }
   ],
   "source": [
    "# Load datasets\n",
    "activity = pd.read_csv('/kaggle/input/sleep1/dailyActivity_merged.csv')\n",
    "sleep = pd.read_csv('/kaggle/input/sleep1/sleepDay_merged.csv')\n",
    "\n",
    "# Convert date columns to same format\n",
    "activity['ActivityDate'] = pd.to_datetime(activity['ActivityDate'])\n",
    "sleep['SleepDay'] = pd.to_datetime(sleep['SleepDay'])\n",
    "\n",
    "# Merge on Id and Date\n",
    "merged = pd.merge(activity, sleep, how='inner', left_on=['Id', 'ActivityDate'], right_on=['Id', 'SleepDay'])\n",
    "\n",
    "# Drop duplicate date column\n",
    "merged.drop(columns=['SleepDay'], inplace=True)\n",
    "\n",
    "# Chech result\n",
    "merged.head()"
   ]
  },
  {
   "cell_type": "code",
   "execution_count": 3,
   "id": "e5e5d4ca",
   "metadata": {
    "execution": {
     "iopub.execute_input": "2025-08-08T14:31:29.174447Z",
     "iopub.status.busy": "2025-08-08T14:31:29.174042Z",
     "iopub.status.idle": "2025-08-08T14:31:29.180745Z",
     "shell.execute_reply": "2025-08-08T14:31:29.179662Z"
    },
    "papermill": {
     "duration": 0.019265,
     "end_time": "2025-08-08T14:31:29.182302",
     "exception": false,
     "start_time": "2025-08-08T14:31:29.163037",
     "status": "completed"
    },
    "tags": []
   },
   "outputs": [
    {
     "data": {
      "text/plain": [
       "(413, 18)"
      ]
     },
     "execution_count": 3,
     "metadata": {},
     "output_type": "execute_result"
    }
   ],
   "source": [
    "# Number of rows and columns\n",
    "merged.shape"
   ]
  },
  {
   "cell_type": "markdown",
   "id": "ff4dafba",
   "metadata": {
    "papermill": {
     "duration": 0.010561,
     "end_time": "2025-08-08T14:31:29.203069",
     "exception": false,
     "start_time": "2025-08-08T14:31:29.192508",
     "status": "completed"
    },
    "tags": []
   },
   "source": [
    "# Create the target variable"
   ]
  },
  {
   "cell_type": "markdown",
   "id": "99d73437",
   "metadata": {
    "papermill": {
     "duration": 0.009811,
     "end_time": "2025-08-08T14:31:29.223713",
     "exception": false,
     "start_time": "2025-08-08T14:31:29.213902",
     "status": "completed"
    },
    "tags": []
   },
   "source": [
    "**To define the target variable for sleep quality, I calculated Sleep Efficiency as the ratio of total minutes asleep to total time in bed. Based on recommendations from sleep research and clinical guidelines (e.g., National Sleep Foundation), I set a threshold of 85%: sleep quality is labeled as good (1) if efficiency is ≥ 85%, and bad (0) otherwise.**"
   ]
  },
  {
   "cell_type": "code",
   "execution_count": 4,
   "id": "63d0d083",
   "metadata": {
    "execution": {
     "iopub.execute_input": "2025-08-08T14:31:29.245064Z",
     "iopub.status.busy": "2025-08-08T14:31:29.244670Z",
     "iopub.status.idle": "2025-08-08T14:31:29.261831Z",
     "shell.execute_reply": "2025-08-08T14:31:29.260800Z"
    },
    "papermill": {
     "duration": 0.030143,
     "end_time": "2025-08-08T14:31:29.263669",
     "exception": false,
     "start_time": "2025-08-08T14:31:29.233526",
     "status": "completed"
    },
    "tags": []
   },
   "outputs": [
    {
     "data": {
      "text/plain": [
       "SleepQuality\n",
       "1    380\n",
       "0     33\n",
       "Name: count, dtype: int64"
      ]
     },
     "execution_count": 4,
     "metadata": {},
     "output_type": "execute_result"
    }
   ],
   "source": [
    "# Create Sleep Efficiency column\n",
    "merged['SleepEfficiency'] = merged['TotalMinutesAsleep'] / merged['TotalTimeInBed']\n",
    "\n",
    "# Create binary label\n",
    "merged['SleepQuality'] = merged['SleepEfficiency'].apply(lambda x: 1 if x >= 0.85 else 0)\n",
    "\n",
    "# Check distribution \n",
    "merged['SleepQuality'].value_counts()"
   ]
  },
  {
   "cell_type": "code",
   "execution_count": 5,
   "id": "a6abd18e",
   "metadata": {
    "execution": {
     "iopub.execute_input": "2025-08-08T14:31:29.285802Z",
     "iopub.status.busy": "2025-08-08T14:31:29.285445Z",
     "iopub.status.idle": "2025-08-08T14:31:29.303307Z",
     "shell.execute_reply": "2025-08-08T14:31:29.302390Z"
    },
    "papermill": {
     "duration": 0.030513,
     "end_time": "2025-08-08T14:31:29.304871",
     "exception": false,
     "start_time": "2025-08-08T14:31:29.274358",
     "status": "completed"
    },
    "tags": []
   },
   "outputs": [
    {
     "data": {
      "text/html": [
       "<div>\n",
       "<style scoped>\n",
       "    .dataframe tbody tr th:only-of-type {\n",
       "        vertical-align: middle;\n",
       "    }\n",
       "\n",
       "    .dataframe tbody tr th {\n",
       "        vertical-align: top;\n",
       "    }\n",
       "\n",
       "    .dataframe thead th {\n",
       "        text-align: right;\n",
       "    }\n",
       "</style>\n",
       "<table border=\"1\" class=\"dataframe\">\n",
       "  <thead>\n",
       "    <tr style=\"text-align: right;\">\n",
       "      <th></th>\n",
       "      <th>Id</th>\n",
       "      <th>ActivityDate</th>\n",
       "      <th>TotalSteps</th>\n",
       "      <th>TotalDistance</th>\n",
       "      <th>TrackerDistance</th>\n",
       "      <th>LoggedActivitiesDistance</th>\n",
       "      <th>VeryActiveDistance</th>\n",
       "      <th>ModeratelyActiveDistance</th>\n",
       "      <th>LightActiveDistance</th>\n",
       "      <th>SedentaryActiveDistance</th>\n",
       "      <th>VeryActiveMinutes</th>\n",
       "      <th>FairlyActiveMinutes</th>\n",
       "      <th>LightlyActiveMinutes</th>\n",
       "      <th>SedentaryMinutes</th>\n",
       "      <th>Calories</th>\n",
       "      <th>TotalSleepRecords</th>\n",
       "      <th>TotalMinutesAsleep</th>\n",
       "      <th>TotalTimeInBed</th>\n",
       "      <th>SleepEfficiency</th>\n",
       "      <th>SleepQuality</th>\n",
       "    </tr>\n",
       "  </thead>\n",
       "  <tbody>\n",
       "    <tr>\n",
       "      <th>0</th>\n",
       "      <td>1503960366</td>\n",
       "      <td>2016-04-12</td>\n",
       "      <td>13162</td>\n",
       "      <td>8.50</td>\n",
       "      <td>8.50</td>\n",
       "      <td>0.0</td>\n",
       "      <td>1.88</td>\n",
       "      <td>0.55</td>\n",
       "      <td>6.06</td>\n",
       "      <td>0.0</td>\n",
       "      <td>25</td>\n",
       "      <td>13</td>\n",
       "      <td>328</td>\n",
       "      <td>728</td>\n",
       "      <td>1985</td>\n",
       "      <td>1</td>\n",
       "      <td>327</td>\n",
       "      <td>346</td>\n",
       "      <td>0.945087</td>\n",
       "      <td>1</td>\n",
       "    </tr>\n",
       "    <tr>\n",
       "      <th>1</th>\n",
       "      <td>1503960366</td>\n",
       "      <td>2016-04-13</td>\n",
       "      <td>10735</td>\n",
       "      <td>6.97</td>\n",
       "      <td>6.97</td>\n",
       "      <td>0.0</td>\n",
       "      <td>1.57</td>\n",
       "      <td>0.69</td>\n",
       "      <td>4.71</td>\n",
       "      <td>0.0</td>\n",
       "      <td>21</td>\n",
       "      <td>19</td>\n",
       "      <td>217</td>\n",
       "      <td>776</td>\n",
       "      <td>1797</td>\n",
       "      <td>2</td>\n",
       "      <td>384</td>\n",
       "      <td>407</td>\n",
       "      <td>0.943489</td>\n",
       "      <td>1</td>\n",
       "    </tr>\n",
       "    <tr>\n",
       "      <th>2</th>\n",
       "      <td>1503960366</td>\n",
       "      <td>2016-04-15</td>\n",
       "      <td>9762</td>\n",
       "      <td>6.28</td>\n",
       "      <td>6.28</td>\n",
       "      <td>0.0</td>\n",
       "      <td>2.14</td>\n",
       "      <td>1.26</td>\n",
       "      <td>2.83</td>\n",
       "      <td>0.0</td>\n",
       "      <td>29</td>\n",
       "      <td>34</td>\n",
       "      <td>209</td>\n",
       "      <td>726</td>\n",
       "      <td>1745</td>\n",
       "      <td>1</td>\n",
       "      <td>412</td>\n",
       "      <td>442</td>\n",
       "      <td>0.932127</td>\n",
       "      <td>1</td>\n",
       "    </tr>\n",
       "    <tr>\n",
       "      <th>3</th>\n",
       "      <td>1503960366</td>\n",
       "      <td>2016-04-16</td>\n",
       "      <td>12669</td>\n",
       "      <td>8.16</td>\n",
       "      <td>8.16</td>\n",
       "      <td>0.0</td>\n",
       "      <td>2.71</td>\n",
       "      <td>0.41</td>\n",
       "      <td>5.04</td>\n",
       "      <td>0.0</td>\n",
       "      <td>36</td>\n",
       "      <td>10</td>\n",
       "      <td>221</td>\n",
       "      <td>773</td>\n",
       "      <td>1863</td>\n",
       "      <td>2</td>\n",
       "      <td>340</td>\n",
       "      <td>367</td>\n",
       "      <td>0.926431</td>\n",
       "      <td>1</td>\n",
       "    </tr>\n",
       "    <tr>\n",
       "      <th>4</th>\n",
       "      <td>1503960366</td>\n",
       "      <td>2016-04-17</td>\n",
       "      <td>9705</td>\n",
       "      <td>6.48</td>\n",
       "      <td>6.48</td>\n",
       "      <td>0.0</td>\n",
       "      <td>3.19</td>\n",
       "      <td>0.78</td>\n",
       "      <td>2.51</td>\n",
       "      <td>0.0</td>\n",
       "      <td>38</td>\n",
       "      <td>20</td>\n",
       "      <td>164</td>\n",
       "      <td>539</td>\n",
       "      <td>1728</td>\n",
       "      <td>1</td>\n",
       "      <td>700</td>\n",
       "      <td>712</td>\n",
       "      <td>0.983146</td>\n",
       "      <td>1</td>\n",
       "    </tr>\n",
       "  </tbody>\n",
       "</table>\n",
       "</div>"
      ],
      "text/plain": [
       "           Id ActivityDate  TotalSteps  TotalDistance  TrackerDistance  \\\n",
       "0  1503960366   2016-04-12       13162           8.50             8.50   \n",
       "1  1503960366   2016-04-13       10735           6.97             6.97   \n",
       "2  1503960366   2016-04-15        9762           6.28             6.28   \n",
       "3  1503960366   2016-04-16       12669           8.16             8.16   \n",
       "4  1503960366   2016-04-17        9705           6.48             6.48   \n",
       "\n",
       "   LoggedActivitiesDistance  VeryActiveDistance  ModeratelyActiveDistance  \\\n",
       "0                       0.0                1.88                      0.55   \n",
       "1                       0.0                1.57                      0.69   \n",
       "2                       0.0                2.14                      1.26   \n",
       "3                       0.0                2.71                      0.41   \n",
       "4                       0.0                3.19                      0.78   \n",
       "\n",
       "   LightActiveDistance  SedentaryActiveDistance  VeryActiveMinutes  \\\n",
       "0                 6.06                      0.0                 25   \n",
       "1                 4.71                      0.0                 21   \n",
       "2                 2.83                      0.0                 29   \n",
       "3                 5.04                      0.0                 36   \n",
       "4                 2.51                      0.0                 38   \n",
       "\n",
       "   FairlyActiveMinutes  LightlyActiveMinutes  SedentaryMinutes  Calories  \\\n",
       "0                   13                   328               728      1985   \n",
       "1                   19                   217               776      1797   \n",
       "2                   34                   209               726      1745   \n",
       "3                   10                   221               773      1863   \n",
       "4                   20                   164               539      1728   \n",
       "\n",
       "   TotalSleepRecords  TotalMinutesAsleep  TotalTimeInBed  SleepEfficiency  \\\n",
       "0                  1                 327             346         0.945087   \n",
       "1                  2                 384             407         0.943489   \n",
       "2                  1                 412             442         0.932127   \n",
       "3                  2                 340             367         0.926431   \n",
       "4                  1                 700             712         0.983146   \n",
       "\n",
       "   SleepQuality  \n",
       "0             1  \n",
       "1             1  \n",
       "2             1  \n",
       "3             1  \n",
       "4             1  "
      ]
     },
     "execution_count": 5,
     "metadata": {},
     "output_type": "execute_result"
    }
   ],
   "source": [
    "# Display first five rows\n",
    "merged.head()"
   ]
  },
  {
   "cell_type": "markdown",
   "id": "f6ed2feb",
   "metadata": {
    "papermill": {
     "duration": 0.009852,
     "end_time": "2025-08-08T14:31:29.325287",
     "exception": false,
     "start_time": "2025-08-08T14:31:29.315435",
     "status": "completed"
    },
    "tags": []
   },
   "source": [
    "# Feature Selection"
   ]
  },
  {
   "cell_type": "markdown",
   "id": "1d08fd8c",
   "metadata": {
    "papermill": {
     "duration": 0.010802,
     "end_time": "2025-08-08T14:31:29.347270",
     "exception": false,
     "start_time": "2025-08-08T14:31:29.336468",
     "status": "completed"
    },
    "tags": []
   },
   "source": [
    "**I decided to drop the ID and ActivityDate columns from the dataset, as they do not carry meaningful information for predicting sleep quality and could introduce unnecessary noise into the model.**"
   ]
  },
  {
   "cell_type": "code",
   "execution_count": 6,
   "id": "5da1b659",
   "metadata": {
    "execution": {
     "iopub.execute_input": "2025-08-08T14:31:29.369372Z",
     "iopub.status.busy": "2025-08-08T14:31:29.368987Z",
     "iopub.status.idle": "2025-08-08T14:31:29.398357Z",
     "shell.execute_reply": "2025-08-08T14:31:29.396898Z"
    },
    "papermill": {
     "duration": 0.043049,
     "end_time": "2025-08-08T14:31:29.400568",
     "exception": false,
     "start_time": "2025-08-08T14:31:29.357519",
     "status": "completed"
    },
    "tags": []
   },
   "outputs": [
    {
     "data": {
      "text/html": [
       "<div>\n",
       "<style scoped>\n",
       "    .dataframe tbody tr th:only-of-type {\n",
       "        vertical-align: middle;\n",
       "    }\n",
       "\n",
       "    .dataframe tbody tr th {\n",
       "        vertical-align: top;\n",
       "    }\n",
       "\n",
       "    .dataframe thead th {\n",
       "        text-align: right;\n",
       "    }\n",
       "</style>\n",
       "<table border=\"1\" class=\"dataframe\">\n",
       "  <thead>\n",
       "    <tr style=\"text-align: right;\">\n",
       "      <th></th>\n",
       "      <th>TotalSteps</th>\n",
       "      <th>TotalDistance</th>\n",
       "      <th>TrackerDistance</th>\n",
       "      <th>LoggedActivitiesDistance</th>\n",
       "      <th>VeryActiveDistance</th>\n",
       "      <th>ModeratelyActiveDistance</th>\n",
       "      <th>LightActiveDistance</th>\n",
       "      <th>SedentaryActiveDistance</th>\n",
       "      <th>VeryActiveMinutes</th>\n",
       "      <th>FairlyActiveMinutes</th>\n",
       "      <th>LightlyActiveMinutes</th>\n",
       "      <th>SedentaryMinutes</th>\n",
       "      <th>Calories</th>\n",
       "      <th>TotalSleepRecords</th>\n",
       "      <th>TotalMinutesAsleep</th>\n",
       "      <th>TotalTimeInBed</th>\n",
       "      <th>SleepEfficiency</th>\n",
       "      <th>SleepQuality</th>\n",
       "    </tr>\n",
       "  </thead>\n",
       "  <tbody>\n",
       "    <tr>\n",
       "      <th>0</th>\n",
       "      <td>13162</td>\n",
       "      <td>8.50</td>\n",
       "      <td>8.50</td>\n",
       "      <td>0.0</td>\n",
       "      <td>1.88</td>\n",
       "      <td>0.55</td>\n",
       "      <td>6.06</td>\n",
       "      <td>0.0</td>\n",
       "      <td>25</td>\n",
       "      <td>13</td>\n",
       "      <td>328</td>\n",
       "      <td>728</td>\n",
       "      <td>1985</td>\n",
       "      <td>1</td>\n",
       "      <td>327</td>\n",
       "      <td>346</td>\n",
       "      <td>0.945087</td>\n",
       "      <td>1</td>\n",
       "    </tr>\n",
       "    <tr>\n",
       "      <th>1</th>\n",
       "      <td>10735</td>\n",
       "      <td>6.97</td>\n",
       "      <td>6.97</td>\n",
       "      <td>0.0</td>\n",
       "      <td>1.57</td>\n",
       "      <td>0.69</td>\n",
       "      <td>4.71</td>\n",
       "      <td>0.0</td>\n",
       "      <td>21</td>\n",
       "      <td>19</td>\n",
       "      <td>217</td>\n",
       "      <td>776</td>\n",
       "      <td>1797</td>\n",
       "      <td>2</td>\n",
       "      <td>384</td>\n",
       "      <td>407</td>\n",
       "      <td>0.943489</td>\n",
       "      <td>1</td>\n",
       "    </tr>\n",
       "    <tr>\n",
       "      <th>2</th>\n",
       "      <td>9762</td>\n",
       "      <td>6.28</td>\n",
       "      <td>6.28</td>\n",
       "      <td>0.0</td>\n",
       "      <td>2.14</td>\n",
       "      <td>1.26</td>\n",
       "      <td>2.83</td>\n",
       "      <td>0.0</td>\n",
       "      <td>29</td>\n",
       "      <td>34</td>\n",
       "      <td>209</td>\n",
       "      <td>726</td>\n",
       "      <td>1745</td>\n",
       "      <td>1</td>\n",
       "      <td>412</td>\n",
       "      <td>442</td>\n",
       "      <td>0.932127</td>\n",
       "      <td>1</td>\n",
       "    </tr>\n",
       "    <tr>\n",
       "      <th>3</th>\n",
       "      <td>12669</td>\n",
       "      <td>8.16</td>\n",
       "      <td>8.16</td>\n",
       "      <td>0.0</td>\n",
       "      <td>2.71</td>\n",
       "      <td>0.41</td>\n",
       "      <td>5.04</td>\n",
       "      <td>0.0</td>\n",
       "      <td>36</td>\n",
       "      <td>10</td>\n",
       "      <td>221</td>\n",
       "      <td>773</td>\n",
       "      <td>1863</td>\n",
       "      <td>2</td>\n",
       "      <td>340</td>\n",
       "      <td>367</td>\n",
       "      <td>0.926431</td>\n",
       "      <td>1</td>\n",
       "    </tr>\n",
       "    <tr>\n",
       "      <th>4</th>\n",
       "      <td>9705</td>\n",
       "      <td>6.48</td>\n",
       "      <td>6.48</td>\n",
       "      <td>0.0</td>\n",
       "      <td>3.19</td>\n",
       "      <td>0.78</td>\n",
       "      <td>2.51</td>\n",
       "      <td>0.0</td>\n",
       "      <td>38</td>\n",
       "      <td>20</td>\n",
       "      <td>164</td>\n",
       "      <td>539</td>\n",
       "      <td>1728</td>\n",
       "      <td>1</td>\n",
       "      <td>700</td>\n",
       "      <td>712</td>\n",
       "      <td>0.983146</td>\n",
       "      <td>1</td>\n",
       "    </tr>\n",
       "    <tr>\n",
       "      <th>...</th>\n",
       "      <td>...</td>\n",
       "      <td>...</td>\n",
       "      <td>...</td>\n",
       "      <td>...</td>\n",
       "      <td>...</td>\n",
       "      <td>...</td>\n",
       "      <td>...</td>\n",
       "      <td>...</td>\n",
       "      <td>...</td>\n",
       "      <td>...</td>\n",
       "      <td>...</td>\n",
       "      <td>...</td>\n",
       "      <td>...</td>\n",
       "      <td>...</td>\n",
       "      <td>...</td>\n",
       "      <td>...</td>\n",
       "      <td>...</td>\n",
       "      <td>...</td>\n",
       "    </tr>\n",
       "    <tr>\n",
       "      <th>95</th>\n",
       "      <td>11388</td>\n",
       "      <td>7.62</td>\n",
       "      <td>7.62</td>\n",
       "      <td>0.0</td>\n",
       "      <td>0.45</td>\n",
       "      <td>4.22</td>\n",
       "      <td>2.95</td>\n",
       "      <td>0.0</td>\n",
       "      <td>7</td>\n",
       "      <td>95</td>\n",
       "      <td>170</td>\n",
       "      <td>797</td>\n",
       "      <td>1551</td>\n",
       "      <td>1</td>\n",
       "      <td>250</td>\n",
       "      <td>371</td>\n",
       "      <td>0.673854</td>\n",
       "      <td>0</td>\n",
       "    </tr>\n",
       "    <tr>\n",
       "      <th>96</th>\n",
       "      <td>7193</td>\n",
       "      <td>5.04</td>\n",
       "      <td>5.04</td>\n",
       "      <td>0.0</td>\n",
       "      <td>0.00</td>\n",
       "      <td>0.42</td>\n",
       "      <td>4.62</td>\n",
       "      <td>0.0</td>\n",
       "      <td>0</td>\n",
       "      <td>10</td>\n",
       "      <td>176</td>\n",
       "      <td>714</td>\n",
       "      <td>1377</td>\n",
       "      <td>1</td>\n",
       "      <td>349</td>\n",
       "      <td>540</td>\n",
       "      <td>0.646296</td>\n",
       "      <td>0</td>\n",
       "    </tr>\n",
       "    <tr>\n",
       "      <th>97</th>\n",
       "      <td>7114</td>\n",
       "      <td>4.88</td>\n",
       "      <td>4.88</td>\n",
       "      <td>0.0</td>\n",
       "      <td>1.37</td>\n",
       "      <td>0.29</td>\n",
       "      <td>3.22</td>\n",
       "      <td>0.0</td>\n",
       "      <td>15</td>\n",
       "      <td>8</td>\n",
       "      <td>190</td>\n",
       "      <td>804</td>\n",
       "      <td>1407</td>\n",
       "      <td>1</td>\n",
       "      <td>261</td>\n",
       "      <td>423</td>\n",
       "      <td>0.617021</td>\n",
       "      <td>0</td>\n",
       "    </tr>\n",
       "    <tr>\n",
       "      <th>98</th>\n",
       "      <td>10645</td>\n",
       "      <td>7.75</td>\n",
       "      <td>7.75</td>\n",
       "      <td>0.0</td>\n",
       "      <td>3.74</td>\n",
       "      <td>1.30</td>\n",
       "      <td>2.71</td>\n",
       "      <td>0.0</td>\n",
       "      <td>36</td>\n",
       "      <td>32</td>\n",
       "      <td>150</td>\n",
       "      <td>744</td>\n",
       "      <td>1545</td>\n",
       "      <td>1</td>\n",
       "      <td>333</td>\n",
       "      <td>478</td>\n",
       "      <td>0.696653</td>\n",
       "      <td>0</td>\n",
       "    </tr>\n",
       "    <tr>\n",
       "      <th>99</th>\n",
       "      <td>13238</td>\n",
       "      <td>9.20</td>\n",
       "      <td>9.20</td>\n",
       "      <td>0.0</td>\n",
       "      <td>3.69</td>\n",
       "      <td>2.10</td>\n",
       "      <td>3.41</td>\n",
       "      <td>0.0</td>\n",
       "      <td>43</td>\n",
       "      <td>52</td>\n",
       "      <td>194</td>\n",
       "      <td>687</td>\n",
       "      <td>1650</td>\n",
       "      <td>1</td>\n",
       "      <td>237</td>\n",
       "      <td>382</td>\n",
       "      <td>0.620419</td>\n",
       "      <td>0</td>\n",
       "    </tr>\n",
       "  </tbody>\n",
       "</table>\n",
       "<p>100 rows × 18 columns</p>\n",
       "</div>"
      ],
      "text/plain": [
       "    TotalSteps  TotalDistance  TrackerDistance  LoggedActivitiesDistance  \\\n",
       "0        13162           8.50             8.50                       0.0   \n",
       "1        10735           6.97             6.97                       0.0   \n",
       "2         9762           6.28             6.28                       0.0   \n",
       "3        12669           8.16             8.16                       0.0   \n",
       "4         9705           6.48             6.48                       0.0   \n",
       "..         ...            ...              ...                       ...   \n",
       "95       11388           7.62             7.62                       0.0   \n",
       "96        7193           5.04             5.04                       0.0   \n",
       "97        7114           4.88             4.88                       0.0   \n",
       "98       10645           7.75             7.75                       0.0   \n",
       "99       13238           9.20             9.20                       0.0   \n",
       "\n",
       "    VeryActiveDistance  ModeratelyActiveDistance  LightActiveDistance  \\\n",
       "0                 1.88                      0.55                 6.06   \n",
       "1                 1.57                      0.69                 4.71   \n",
       "2                 2.14                      1.26                 2.83   \n",
       "3                 2.71                      0.41                 5.04   \n",
       "4                 3.19                      0.78                 2.51   \n",
       "..                 ...                       ...                  ...   \n",
       "95                0.45                      4.22                 2.95   \n",
       "96                0.00                      0.42                 4.62   \n",
       "97                1.37                      0.29                 3.22   \n",
       "98                3.74                      1.30                 2.71   \n",
       "99                3.69                      2.10                 3.41   \n",
       "\n",
       "    SedentaryActiveDistance  VeryActiveMinutes  FairlyActiveMinutes  \\\n",
       "0                       0.0                 25                   13   \n",
       "1                       0.0                 21                   19   \n",
       "2                       0.0                 29                   34   \n",
       "3                       0.0                 36                   10   \n",
       "4                       0.0                 38                   20   \n",
       "..                      ...                ...                  ...   \n",
       "95                      0.0                  7                   95   \n",
       "96                      0.0                  0                   10   \n",
       "97                      0.0                 15                    8   \n",
       "98                      0.0                 36                   32   \n",
       "99                      0.0                 43                   52   \n",
       "\n",
       "    LightlyActiveMinutes  SedentaryMinutes  Calories  TotalSleepRecords  \\\n",
       "0                    328               728      1985                  1   \n",
       "1                    217               776      1797                  2   \n",
       "2                    209               726      1745                  1   \n",
       "3                    221               773      1863                  2   \n",
       "4                    164               539      1728                  1   \n",
       "..                   ...               ...       ...                ...   \n",
       "95                   170               797      1551                  1   \n",
       "96                   176               714      1377                  1   \n",
       "97                   190               804      1407                  1   \n",
       "98                   150               744      1545                  1   \n",
       "99                   194               687      1650                  1   \n",
       "\n",
       "    TotalMinutesAsleep  TotalTimeInBed  SleepEfficiency  SleepQuality  \n",
       "0                  327             346         0.945087             1  \n",
       "1                  384             407         0.943489             1  \n",
       "2                  412             442         0.932127             1  \n",
       "3                  340             367         0.926431             1  \n",
       "4                  700             712         0.983146             1  \n",
       "..                 ...             ...              ...           ...  \n",
       "95                 250             371         0.673854             0  \n",
       "96                 349             540         0.646296             0  \n",
       "97                 261             423         0.617021             0  \n",
       "98                 333             478         0.696653             0  \n",
       "99                 237             382         0.620419             0  \n",
       "\n",
       "[100 rows x 18 columns]"
      ]
     },
     "execution_count": 6,
     "metadata": {},
     "output_type": "execute_result"
    }
   ],
   "source": [
    "# Drop ID, Dates, and Leakage Columns\n",
    "\n",
    "columns_to_drop = [\n",
    "    'Id',                   # Use identifier\n",
    "    'ActivityDate',         # Data (used only for merging)\n",
    "]  \n",
    "\n",
    "# Drop the columns\n",
    "\n",
    "cleaned = merged.drop(columns = columns_to_drop, errors = 'ignore')\n",
    "\n",
    "# Drop duplicates if any\n",
    "\n",
    "cleaned = cleaned.drop_duplicates()\n",
    "\n",
    "cleaned.head(100)"
   ]
  },
  {
   "cell_type": "markdown",
   "id": "9dc28783",
   "metadata": {
    "papermill": {
     "duration": 0.010506,
     "end_time": "2025-08-08T14:31:29.425268",
     "exception": false,
     "start_time": "2025-08-08T14:31:29.414762",
     "status": "completed"
    },
    "tags": []
   },
   "source": [
    "# Check correlation"
   ]
  },
  {
   "cell_type": "code",
   "execution_count": 7,
   "id": "9b49028d",
   "metadata": {
    "execution": {
     "iopub.execute_input": "2025-08-08T14:31:29.527384Z",
     "iopub.status.busy": "2025-08-08T14:31:29.526406Z",
     "iopub.status.idle": "2025-08-08T14:31:30.704323Z",
     "shell.execute_reply": "2025-08-08T14:31:30.703348Z"
    },
    "papermill": {
     "duration": 1.198285,
     "end_time": "2025-08-08T14:31:30.712898",
     "exception": false,
     "start_time": "2025-08-08T14:31:29.514613",
     "status": "completed"
    },
    "tags": []
   },
   "outputs": [
    {
     "data": {
      "image/png": "[encoded data removed]",
      "text/plain": [
       "<Figure size 1200x800 with 2 Axes>"
      ]
     },
     "metadata": {},
     "output_type": "display_data"
    }
   ],
   "source": [
    "# Compute the correlation matrix\n",
    "corr_matrix = cleaned.corr()\n",
    "\n",
    "# Set the figure size and plot the heatmap\n",
    "plt.figure(figsize=(12,8))\n",
    "sns.heatmap(corr_matrix, annot = True, fmt=\".2f\", cmap='coolwarm', square = True,linewidth = 0.5)\n",
    "\n",
    "# Add a title\n",
    "plt.title(\"Feature correlation Heatmap\", fontsize = 16)\n",
    "plt.show()"
   ]
  },
  {
   "cell_type": "markdown",
   "id": "36ffa5fa",
   "metadata": {
    "papermill": {
     "duration": 0.016778,
     "end_time": "2025-08-08T14:31:30.749568",
     "exception": false,
     "start_time": "2025-08-08T14:31:30.732790",
     "status": "completed"
    },
    "tags": []
   },
   "source": [
    "# Define features and target"
   ]
  },
  {
   "cell_type": "code",
   "execution_count": 8,
   "id": "fada2b90",
   "metadata": {
    "execution": {
     "iopub.execute_input": "2025-08-08T14:31:30.784466Z",
     "iopub.status.busy": "2025-08-08T14:31:30.784044Z",
     "iopub.status.idle": "2025-08-08T14:31:30.790383Z",
     "shell.execute_reply": "2025-08-08T14:31:30.789468Z"
    },
    "papermill": {
     "duration": 0.025495,
     "end_time": "2025-08-08T14:31:30.791865",
     "exception": false,
     "start_time": "2025-08-08T14:31:30.766370",
     "status": "completed"
    },
    "tags": []
   },
   "outputs": [],
   "source": [
    "X = cleaned.drop(columns = ['SleepQuality', 'SleepEfficiency','TotalTimeInBed','TotalMinutesAsleep','LoggedActivitiesDistance'])\n",
    "y = cleaned['SleepQuality']"
   ]
  },
  {
   "cell_type": "code",
   "execution_count": 9,
   "id": "a590d07d",
   "metadata": {
    "execution": {
     "iopub.execute_input": "2025-08-08T14:31:30.827865Z",
     "iopub.status.busy": "2025-08-08T14:31:30.827025Z",
     "iopub.status.idle": "2025-08-08T14:31:30.846340Z",
     "shell.execute_reply": "2025-08-08T14:31:30.845356Z"
    },
    "papermill": {
     "duration": 0.039084,
     "end_time": "2025-08-08T14:31:30.847957",
     "exception": false,
     "start_time": "2025-08-08T14:31:30.808873",
     "status": "completed"
    },
    "tags": []
   },
   "outputs": [
    {
     "data": {
      "text/html": [
       "<div>\n",
       "<style scoped>\n",
       "    .dataframe tbody tr th:only-of-type {\n",
       "        vertical-align: middle;\n",
       "    }\n",
       "\n",
       "    .dataframe tbody tr th {\n",
       "        vertical-align: top;\n",
       "    }\n",
       "\n",
       "    .dataframe thead th {\n",
       "        text-align: right;\n",
       "    }\n",
       "</style>\n",
       "<table border=\"1\" class=\"dataframe\">\n",
       "  <thead>\n",
       "    <tr style=\"text-align: right;\">\n",
       "      <th></th>\n",
       "      <th>TotalSteps</th>\n",
       "      <th>TotalDistance</th>\n",
       "      <th>TrackerDistance</th>\n",
       "      <th>VeryActiveDistance</th>\n",
       "      <th>ModeratelyActiveDistance</th>\n",
       "      <th>LightActiveDistance</th>\n",
       "      <th>SedentaryActiveDistance</th>\n",
       "      <th>VeryActiveMinutes</th>\n",
       "      <th>FairlyActiveMinutes</th>\n",
       "      <th>LightlyActiveMinutes</th>\n",
       "      <th>SedentaryMinutes</th>\n",
       "      <th>Calories</th>\n",
       "      <th>TotalSleepRecords</th>\n",
       "    </tr>\n",
       "  </thead>\n",
       "  <tbody>\n",
       "    <tr>\n",
       "      <th>0</th>\n",
       "      <td>13162</td>\n",
       "      <td>8.50</td>\n",
       "      <td>8.50</td>\n",
       "      <td>1.88</td>\n",
       "      <td>0.55</td>\n",
       "      <td>6.06</td>\n",
       "      <td>0.0</td>\n",
       "      <td>25</td>\n",
       "      <td>13</td>\n",
       "      <td>328</td>\n",
       "      <td>728</td>\n",
       "      <td>1985</td>\n",
       "      <td>1</td>\n",
       "    </tr>\n",
       "    <tr>\n",
       "      <th>1</th>\n",
       "      <td>10735</td>\n",
       "      <td>6.97</td>\n",
       "      <td>6.97</td>\n",
       "      <td>1.57</td>\n",
       "      <td>0.69</td>\n",
       "      <td>4.71</td>\n",
       "      <td>0.0</td>\n",
       "      <td>21</td>\n",
       "      <td>19</td>\n",
       "      <td>217</td>\n",
       "      <td>776</td>\n",
       "      <td>1797</td>\n",
       "      <td>2</td>\n",
       "    </tr>\n",
       "    <tr>\n",
       "      <th>2</th>\n",
       "      <td>9762</td>\n",
       "      <td>6.28</td>\n",
       "      <td>6.28</td>\n",
       "      <td>2.14</td>\n",
       "      <td>1.26</td>\n",
       "      <td>2.83</td>\n",
       "      <td>0.0</td>\n",
       "      <td>29</td>\n",
       "      <td>34</td>\n",
       "      <td>209</td>\n",
       "      <td>726</td>\n",
       "      <td>1745</td>\n",
       "      <td>1</td>\n",
       "    </tr>\n",
       "    <tr>\n",
       "      <th>3</th>\n",
       "      <td>12669</td>\n",
       "      <td>8.16</td>\n",
       "      <td>8.16</td>\n",
       "      <td>2.71</td>\n",
       "      <td>0.41</td>\n",
       "      <td>5.04</td>\n",
       "      <td>0.0</td>\n",
       "      <td>36</td>\n",
       "      <td>10</td>\n",
       "      <td>221</td>\n",
       "      <td>773</td>\n",
       "      <td>1863</td>\n",
       "      <td>2</td>\n",
       "    </tr>\n",
       "    <tr>\n",
       "      <th>4</th>\n",
       "      <td>9705</td>\n",
       "      <td>6.48</td>\n",
       "      <td>6.48</td>\n",
       "      <td>3.19</td>\n",
       "      <td>0.78</td>\n",
       "      <td>2.51</td>\n",
       "      <td>0.0</td>\n",
       "      <td>38</td>\n",
       "      <td>20</td>\n",
       "      <td>164</td>\n",
       "      <td>539</td>\n",
       "      <td>1728</td>\n",
       "      <td>1</td>\n",
       "    </tr>\n",
       "    <tr>\n",
       "      <th>...</th>\n",
       "      <td>...</td>\n",
       "      <td>...</td>\n",
       "      <td>...</td>\n",
       "      <td>...</td>\n",
       "      <td>...</td>\n",
       "      <td>...</td>\n",
       "      <td>...</td>\n",
       "      <td>...</td>\n",
       "      <td>...</td>\n",
       "      <td>...</td>\n",
       "      <td>...</td>\n",
       "      <td>...</td>\n",
       "      <td>...</td>\n",
       "    </tr>\n",
       "    <tr>\n",
       "      <th>408</th>\n",
       "      <td>7174</td>\n",
       "      <td>4.59</td>\n",
       "      <td>4.59</td>\n",
       "      <td>0.33</td>\n",
       "      <td>0.36</td>\n",
       "      <td>3.91</td>\n",
       "      <td>0.0</td>\n",
       "      <td>10</td>\n",
       "      <td>20</td>\n",
       "      <td>301</td>\n",
       "      <td>749</td>\n",
       "      <td>2896</td>\n",
       "      <td>1</td>\n",
       "    </tr>\n",
       "    <tr>\n",
       "      <th>409</th>\n",
       "      <td>1619</td>\n",
       "      <td>1.04</td>\n",
       "      <td>1.04</td>\n",
       "      <td>0.00</td>\n",
       "      <td>0.00</td>\n",
       "      <td>1.04</td>\n",
       "      <td>0.0</td>\n",
       "      <td>0</td>\n",
       "      <td>0</td>\n",
       "      <td>79</td>\n",
       "      <td>834</td>\n",
       "      <td>1962</td>\n",
       "      <td>1</td>\n",
       "    </tr>\n",
       "    <tr>\n",
       "      <th>410</th>\n",
       "      <td>1831</td>\n",
       "      <td>1.17</td>\n",
       "      <td>1.17</td>\n",
       "      <td>0.00</td>\n",
       "      <td>0.00</td>\n",
       "      <td>1.17</td>\n",
       "      <td>0.0</td>\n",
       "      <td>0</td>\n",
       "      <td>0</td>\n",
       "      <td>101</td>\n",
       "      <td>916</td>\n",
       "      <td>2015</td>\n",
       "      <td>1</td>\n",
       "    </tr>\n",
       "    <tr>\n",
       "      <th>411</th>\n",
       "      <td>2421</td>\n",
       "      <td>1.55</td>\n",
       "      <td>1.55</td>\n",
       "      <td>0.00</td>\n",
       "      <td>0.00</td>\n",
       "      <td>1.55</td>\n",
       "      <td>0.0</td>\n",
       "      <td>0</td>\n",
       "      <td>0</td>\n",
       "      <td>156</td>\n",
       "      <td>739</td>\n",
       "      <td>2297</td>\n",
       "      <td>1</td>\n",
       "    </tr>\n",
       "    <tr>\n",
       "      <th>412</th>\n",
       "      <td>2283</td>\n",
       "      <td>1.46</td>\n",
       "      <td>1.46</td>\n",
       "      <td>0.00</td>\n",
       "      <td>0.00</td>\n",
       "      <td>1.46</td>\n",
       "      <td>0.0</td>\n",
       "      <td>0</td>\n",
       "      <td>0</td>\n",
       "      <td>129</td>\n",
       "      <td>848</td>\n",
       "      <td>2067</td>\n",
       "      <td>1</td>\n",
       "    </tr>\n",
       "  </tbody>\n",
       "</table>\n",
       "<p>410 rows × 13 columns</p>\n",
       "</div>"
      ],
      "text/plain": [
       "     TotalSteps  TotalDistance  TrackerDistance  VeryActiveDistance  \\\n",
       "0         13162           8.50             8.50                1.88   \n",
       "1         10735           6.97             6.97                1.57   \n",
       "2          9762           6.28             6.28                2.14   \n",
       "3         12669           8.16             8.16                2.71   \n",
       "4          9705           6.48             6.48                3.19   \n",
       "..          ...            ...              ...                 ...   \n",
       "408        7174           4.59             4.59                0.33   \n",
       "409        1619           1.04             1.04                0.00   \n",
       "410        1831           1.17             1.17                0.00   \n",
       "411        2421           1.55             1.55                0.00   \n",
       "412        2283           1.46             1.46                0.00   \n",
       "\n",
       "     ModeratelyActiveDistance  LightActiveDistance  SedentaryActiveDistance  \\\n",
       "0                        0.55                 6.06                      0.0   \n",
       "1                        0.69                 4.71                      0.0   \n",
       "2                        1.26                 2.83                      0.0   \n",
       "3                        0.41                 5.04                      0.0   \n",
       "4                        0.78                 2.51                      0.0   \n",
       "..                        ...                  ...                      ...   \n",
       "408                      0.36                 3.91                      0.0   \n",
       "409                      0.00                 1.04                      0.0   \n",
       "410                      0.00                 1.17                      0.0   \n",
       "411                      0.00                 1.55                      0.0   \n",
       "412                      0.00                 1.46                      0.0   \n",
       "\n",
       "     VeryActiveMinutes  FairlyActiveMinutes  LightlyActiveMinutes  \\\n",
       "0                   25                   13                   328   \n",
       "1                   21                   19                   217   \n",
       "2                   29                   34                   209   \n",
       "3                   36                   10                   221   \n",
       "4                   38                   20                   164   \n",
       "..                 ...                  ...                   ...   \n",
       "408                 10                   20                   301   \n",
       "409                  0                    0                    79   \n",
       "410                  0                    0                   101   \n",
       "411                  0                    0                   156   \n",
       "412                  0                    0                   129   \n",
       "\n",
       "     SedentaryMinutes  Calories  TotalSleepRecords  \n",
       "0                 728      1985                  1  \n",
       "1                 776      1797                  2  \n",
       "2                 726      1745                  1  \n",
       "3                 773      1863                  2  \n",
       "4                 539      1728                  1  \n",
       "..                ...       ...                ...  \n",
       "408               749      2896                  1  \n",
       "409               834      1962                  1  \n",
       "410               916      2015                  1  \n",
       "411               739      2297                  1  \n",
       "412               848      2067                  1  \n",
       "\n",
       "[410 rows x 13 columns]"
      ]
     },
     "execution_count": 9,
     "metadata": {},
     "output_type": "execute_result"
    }
   ],
   "source": [
    "X"
   ]
  },
  {
   "cell_type": "code",
   "execution_count": 10,
   "id": "e8a16c80",
   "metadata": {
    "execution": {
     "iopub.execute_input": "2025-08-08T14:31:30.884518Z",
     "iopub.status.busy": "2025-08-08T14:31:30.883768Z",
     "iopub.status.idle": "2025-08-08T14:31:30.891748Z",
     "shell.execute_reply": "2025-08-08T14:31:30.890809Z"
    },
    "papermill": {
     "duration": 0.02803,
     "end_time": "2025-08-08T14:31:30.893471",
     "exception": false,
     "start_time": "2025-08-08T14:31:30.865441",
     "status": "completed"
    },
    "tags": []
   },
   "outputs": [
    {
     "data": {
      "text/plain": [
       "0      1\n",
       "1      1\n",
       "2      1\n",
       "3      1\n",
       "4      1\n",
       "      ..\n",
       "408    1\n",
       "409    1\n",
       "410    1\n",
       "411    1\n",
       "412    1\n",
       "Name: SleepQuality, Length: 410, dtype: int64"
      ]
     },
     "execution_count": 10,
     "metadata": {},
     "output_type": "execute_result"
    }
   ],
   "source": [
    "y"
   ]
  },
  {
   "cell_type": "markdown",
   "id": "5e7af914",
   "metadata": {
    "papermill": {
     "duration": 0.016922,
     "end_time": "2025-08-08T14:31:30.928038",
     "exception": false,
     "start_time": "2025-08-08T14:31:30.911116",
     "status": "completed"
    },
    "tags": []
   },
   "source": [
    "# Split the Dataset"
   ]
  },
  {
   "cell_type": "markdown",
   "id": "d10d409d",
   "metadata": {
    "papermill": {
     "duration": 0.017453,
     "end_time": "2025-08-08T14:31:30.965327",
     "exception": false,
     "start_time": "2025-08-08T14:31:30.947874",
     "status": "completed"
    },
    "tags": []
   },
   "source": [
    "**I used train-test split to divide the dataset into two parts: a training set to train the machine learning model, and a test set to evaluate its performance on unseen data. This helps ensure the model generalizes well and avoids overfitting.**"
   ]
  },
  {
   "cell_type": "code",
   "execution_count": 11,
   "id": "b38a4f46",
   "metadata": {
    "execution": {
     "iopub.execute_input": "2025-08-08T14:31:31.001826Z",
     "iopub.status.busy": "2025-08-08T14:31:31.001414Z",
     "iopub.status.idle": "2025-08-08T14:31:31.010798Z",
     "shell.execute_reply": "2025-08-08T14:31:31.009741Z"
    },
    "papermill": {
     "duration": 0.030171,
     "end_time": "2025-08-08T14:31:31.012669",
     "exception": false,
     "start_time": "2025-08-08T14:31:30.982498",
     "status": "completed"
    },
    "tags": []
   },
   "outputs": [],
   "source": [
    "# Split with stratify to maintain class balance\n",
    "\n",
    "X_train, X_test, y_train, y_test = train_test_split(\n",
    "    X, y, test_size=0.2, random_state=42, stratify=y\n",
    ")"
   ]
  },
  {
   "cell_type": "markdown",
   "id": "0587963a",
   "metadata": {
    "papermill": {
     "duration": 0.016942,
     "end_time": "2025-08-08T14:31:31.047044",
     "exception": false,
     "start_time": "2025-08-08T14:31:31.030102",
     "status": "completed"
    },
    "tags": []
   },
   "source": [
    "# Logistic Regression"
   ]
  },
  {
   "cell_type": "markdown",
   "id": "14328f9d",
   "metadata": {
    "papermill": {
     "duration": 0.017232,
     "end_time": "2025-08-08T14:31:31.082365",
     "exception": false,
     "start_time": "2025-08-08T14:31:31.065133",
     "status": "completed"
    },
    "tags": []
   },
   "source": [
    "**Scale the features**\n",
    "\n",
    "**Feature scaling is an important preprocessing step in logistic regression. It ensures that all input features are on a similar scale, especially when they have different units or ranges. Without scaling, features with larger values can dominate the model and affect the training process. Scaling helps improve the model's convergence speed and performance.**\n"
   ]
  },
  {
   "cell_type": "code",
   "execution_count": 12,
   "id": "518601fc",
   "metadata": {
    "execution": {
     "iopub.execute_input": "2025-08-08T14:31:31.119643Z",
     "iopub.status.busy": "2025-08-08T14:31:31.119056Z",
     "iopub.status.idle": "2025-08-08T14:31:31.134945Z",
     "shell.execute_reply": "2025-08-08T14:31:31.133505Z"
    },
    "papermill": {
     "duration": 0.036789,
     "end_time": "2025-08-08T14:31:31.137160",
     "exception": false,
     "start_time": "2025-08-08T14:31:31.100371",
     "status": "completed"
    },
    "tags": []
   },
   "outputs": [],
   "source": [
    "# Initialize the scaler\n",
    "\n",
    "scaler = StandardScaler()\n",
    "\n",
    "# Fit only on training data, transform both train and test\n",
    "X_train_scaled = scaler.fit_transform(X_train)\n",
    "X_test_scaled = scaler.transform(X_test)\n",
    "\n",
    "\n",
    "\n",
    "\n"
   ]
  },
  {
   "cell_type": "code",
   "execution_count": 13,
   "id": "1d6667f9",
   "metadata": {
    "execution": {
     "iopub.execute_input": "2025-08-08T14:31:31.174369Z",
     "iopub.status.busy": "2025-08-08T14:31:31.173616Z",
     "iopub.status.idle": "2025-08-08T14:31:31.291402Z",
     "shell.execute_reply": "2025-08-08T14:31:31.290400Z"
    },
    "papermill": {
     "duration": 0.138769,
     "end_time": "2025-08-08T14:31:31.293567",
     "exception": false,
     "start_time": "2025-08-08T14:31:31.154798",
     "status": "completed"
    },
    "tags": []
   },
   "outputs": [
    {
     "data": {
      "text/html": [
       "<style>#sk-container-id-1 {color: black;background-color: white;}#sk-container-id-1 pre{padding: 0;}#sk-container-id-1 div.sk-toggleable {background-color: white;}#sk-container-id-1 label.sk-toggleable__label {cursor: pointer;display: block;width: 100%;margin-bottom: 0;padding: 0.3em;box-sizing: border-box;text-align: center;}#sk-container-id-1 label.sk-toggleable__label-arrow:before {content: \"▸\";float: left;margin-right: 0.25em;color: #696969;}#sk-container-id-1 label.sk-toggleable__label-arrow:hover:before {color: black;}#sk-container-id-1 div.sk-estimator:hover label.sk-toggleable__label-arrow:before {color: black;}#sk-container-id-1 div.sk-toggleable__content {max-height: 0;max-width: 0;overflow: hidden;text-align: left;background-color: #f0f8ff;}#sk-container-id-1 div.sk-toggleable__content pre {margin: 0.2em;color: black;border-radius: 0.25em;background-color: #f0f8ff;}#sk-container-id-1 input.sk-toggleable__control:checked~div.sk-toggleable__content {max-height: 200px;max-width: 100%;overflow: auto;}#sk-container-id-1 input.sk-toggleable__control:checked~label.sk-toggleable__label-arrow:before {content: \"▾\";}#sk-container-id-1 div.sk-estimator input.sk-toggleable__control:checked~label.sk-toggleable__label {background-color: #d4ebff;}#sk-container-id-1 div.sk-label input.sk-toggleable__control:checked~label.sk-toggleable__label {background-color: #d4ebff;}#sk-container-id-1 input.sk-hidden--visually {border: 0;clip: rect(1px 1px 1px 1px);clip: rect(1px, 1px, 1px, 1px);height: 1px;margin: -1px;overflow: hidden;padding: 0;position: absolute;width: 1px;}#sk-container-id-1 div.sk-estimator {font-family: monospace;background-color: #f0f8ff;border: 1px dotted black;border-radius: 0.25em;box-sizing: border-box;margin-bottom: 0.5em;}#sk-container-id-1 div.sk-estimator:hover {background-color: #d4ebff;}#sk-container-id-1 div.sk-parallel-item::after {content: \"\";width: 100%;border-bottom: 1px solid gray;flex-grow: 1;}#sk-container-id-1 div.sk-label:hover label.sk-toggleable__label {background-color: #d4ebff;}#sk-container-id-1 div.sk-serial::before {content: \"\";position: absolute;border-left: 1px solid gray;box-sizing: border-box;top: 0;bottom: 0;left: 50%;z-index: 0;}#sk-container-id-1 div.sk-serial {display: flex;flex-direction: column;align-items: center;background-color: white;padding-right: 0.2em;padding-left: 0.2em;position: relative;}#sk-container-id-1 div.sk-item {position: relative;z-index: 1;}#sk-container-id-1 div.sk-parallel {display: flex;align-items: stretch;justify-content: center;background-color: white;position: relative;}#sk-container-id-1 div.sk-item::before, #sk-container-id-1 div.sk-parallel-item::before {content: \"\";position: absolute;border-left: 1px solid gray;box-sizing: border-box;top: 0;bottom: 0;left: 50%;z-index: -1;}#sk-container-id-1 div.sk-parallel-item {display: flex;flex-direction: column;z-index: 1;position: relative;background-color: white;}#sk-container-id-1 div.sk-parallel-item:first-child::after {align-self: flex-end;width: 50%;}#sk-container-id-1 div.sk-parallel-item:last-child::after {align-self: flex-start;width: 50%;}#sk-container-id-1 div.sk-parallel-item:only-child::after {width: 0;}#sk-container-id-1 div.sk-dashed-wrapped {border: 1px dashed gray;margin: 0 0.4em 0.5em 0.4em;box-sizing: border-box;padding-bottom: 0.4em;background-color: white;}#sk-container-id-1 div.sk-label label {font-family: monospace;font-weight: bold;display: inline-block;line-height: 1.2em;}#sk-container-id-1 div.sk-label-container {text-align: center;}#sk-container-id-1 div.sk-container {/* jupyter's `normalize.less` sets `[hidden] { display: none; }` but bootstrap.min.css set `[hidden] { display: none !important; }` so we also need the `!important` here to be able to override the default hidden behavior on the sphinx rendered scikit-learn.org. See: https://github.com/scikit-learn/scikit-learn/issues/21755 */display: inline-block !important;position: relative;}#sk-container-id-1 div.sk-text-repr-fallback {display: none;}</style><div id=\"sk-container-id-1\" class=\"sk-top-container\"><div class=\"sk-text-repr-fallback\"><pre>LogisticRegression(random_state=42)</pre><b>In a Jupyter environment, please rerun this cell to show the HTML representation or trust the notebook. <br />On GitHub, the HTML representation is unable to render, please try loading this page with nbviewer.org.</b></div><div class=\"sk-container\" hidden><div class=\"sk-item\"><div class=\"sk-estimator sk-toggleable\"><input class=\"sk-toggleable__control sk-hidden--visually\" id=\"sk-estimator-id-1\" type=\"checkbox\" checked><label for=\"sk-estimator-id-1\" class=\"sk-toggleable__label sk-toggleable__label-arrow\">LogisticRegression</label><div class=\"sk-toggleable__content\"><pre>LogisticRegression(random_state=42)</pre></div></div></div></div></div>"
      ],
      "text/plain": [
       "LogisticRegression(random_state=42)"
      ]
     },
     "execution_count": 13,
     "metadata": {},
     "output_type": "execute_result"
    }
   ],
   "source": [
    "# Create and train the model\n",
    "lr_model = LogisticRegression(random_state = 42)\n",
    "lr_model.fit(X_train_scaled, y_train)\n"
   ]
  },
  {
   "cell_type": "markdown",
   "id": "7c3fd618",
   "metadata": {
    "papermill": {
     "duration": 0.030728,
     "end_time": "2025-08-08T14:31:31.352978",
     "exception": false,
     "start_time": "2025-08-08T14:31:31.322250",
     "status": "completed"
    },
    "tags": []
   },
   "source": [
    "**Make predictions**"
   ]
  },
  {
   "cell_type": "code",
   "execution_count": 14,
   "id": "030f75b2",
   "metadata": {
    "execution": {
     "iopub.execute_input": "2025-08-08T14:31:31.405358Z",
     "iopub.status.busy": "2025-08-08T14:31:31.404925Z",
     "iopub.status.idle": "2025-08-08T14:31:31.410447Z",
     "shell.execute_reply": "2025-08-08T14:31:31.409506Z"
    },
    "papermill": {
     "duration": 0.028437,
     "end_time": "2025-08-08T14:31:31.411977",
     "exception": false,
     "start_time": "2025-08-08T14:31:31.383540",
     "status": "completed"
    },
    "tags": []
   },
   "outputs": [],
   "source": [
    "y_pred_lr = lr_model.predict(X_train_scaled)"
   ]
  },
  {
   "cell_type": "markdown",
   "id": "ebdc367d",
   "metadata": {
    "papermill": {
     "duration": 0.017573,
     "end_time": "2025-08-08T14:31:31.447486",
     "exception": false,
     "start_time": "2025-08-08T14:31:31.429913",
     "status": "completed"
    },
    "tags": []
   },
   "source": [
    "**Evaluate the model based on test data**"
   ]
  },
  {
   "cell_type": "code",
   "execution_count": 15,
   "id": "c9f44aa1",
   "metadata": {
    "execution": {
     "iopub.execute_input": "2025-08-08T14:31:31.483711Z",
     "iopub.status.busy": "2025-08-08T14:31:31.483329Z",
     "iopub.status.idle": "2025-08-08T14:31:31.488407Z",
     "shell.execute_reply": "2025-08-08T14:31:31.487614Z"
    },
    "papermill": {
     "duration": 0.025126,
     "end_time": "2025-08-08T14:31:31.489864",
     "exception": false,
     "start_time": "2025-08-08T14:31:31.464738",
     "status": "completed"
    },
    "tags": []
   },
   "outputs": [],
   "source": [
    "y_pred_lr = lr_model.predict(X_test_scaled)"
   ]
  },
  {
   "cell_type": "code",
   "execution_count": 16,
   "id": "1cc289bf",
   "metadata": {
    "execution": {
     "iopub.execute_input": "2025-08-08T14:31:31.527924Z",
     "iopub.status.busy": "2025-08-08T14:31:31.527242Z",
     "iopub.status.idle": "2025-08-08T14:31:31.546697Z",
     "shell.execute_reply": "2025-08-08T14:31:31.545594Z"
    },
    "papermill": {
     "duration": 0.04118,
     "end_time": "2025-08-08T14:31:31.548683",
     "exception": false,
     "start_time": "2025-08-08T14:31:31.507503",
     "status": "completed"
    },
    "tags": []
   },
   "outputs": [
    {
     "name": "stdout",
     "output_type": "stream",
     "text": [
      "Accuracy: 0.9390243902439024\n",
      "Confusion Matrix:\n",
      " [[ 2  5]\n",
      " [ 0 75]]\n",
      "Classification Report:\n",
      "               precision    recall  f1-score   support\n",
      "\n",
      "           0       1.00      0.29      0.44         7\n",
      "           1       0.94      1.00      0.97        75\n",
      "\n",
      "    accuracy                           0.94        82\n",
      "   macro avg       0.97      0.64      0.71        82\n",
      "weighted avg       0.94      0.94      0.92        82\n",
      "\n"
     ]
    }
   ],
   "source": [
    "# Accuracy\n",
    "print(\"Accuracy:\", accuracy_score(y_test, y_pred_lr))\n",
    "\n",
    "# Confusion Matrix\n",
    "print(\"Confusion Matrix:\\n\", confusion_matrix(y_test, y_pred_lr))\n",
    "\n",
    "# Classification Report\n",
    "print(\"Classification Report:\\n\", classification_report(y_test, y_pred_lr))\n"
   ]
  },
  {
   "cell_type": "markdown",
   "id": "fda5f4e4",
   "metadata": {
    "papermill": {
     "duration": 0.017502,
     "end_time": "2025-08-08T14:31:31.583714",
     "exception": false,
     "start_time": "2025-08-08T14:31:31.566212",
     "status": "completed"
    },
    "tags": []
   },
   "source": [
    "**Although the model shows a high overall accuracy of 93.9%, the evaluation metrics reveal a significant imbalance in performance between the two classes. It performs very well on predicting good sleep (class 1), with perfect recall and high precision, but fails to accurately identify bad sleep (class 0), achieving a recall of only 0.29. This means the model correctly detects almost all good sleep cases but misses most of the bad ones only 2 out of 7 were correctly predicted. In applications like sleep quality monitoring, where identifying poor sleep is critical, this imbalance is a concern. Therefore, despite the high accuracy, the model's poor performance on class 0 suggests a need for improvement**"
   ]
  },
  {
   "cell_type": "markdown",
   "id": "1fece6ce",
   "metadata": {
    "papermill": {
     "duration": 0.018579,
     "end_time": "2025-08-08T14:31:31.620746",
     "exception": false,
     "start_time": "2025-08-08T14:31:31.602167",
     "status": "completed"
    },
    "tags": []
   },
   "source": [
    "# Select top features using SelectKBest with f_classif"
   ]
  },
  {
   "cell_type": "markdown",
   "id": "3f361a71",
   "metadata": {
    "papermill": {
     "duration": 0.017969,
     "end_time": "2025-08-08T14:31:31.657428",
     "exception": false,
     "start_time": "2025-08-08T14:31:31.639459",
     "status": "completed"
    },
    "tags": []
   },
   "source": [
    "**I used SelectKBest with the f_classif scoring function to select the top features most relevant to predicting sleep quality. This method ranks features based on how strongly they are related to the target using ANOVA F-tests, and retains only the highest-scoring ones to improve model performance and reduce complexity.**"
   ]
  },
  {
   "cell_type": "code",
   "execution_count": 17,
   "id": "f8014cfa",
   "metadata": {
    "execution": {
     "iopub.execute_input": "2025-08-08T14:31:31.695754Z",
     "iopub.status.busy": "2025-08-08T14:31:31.695313Z",
     "iopub.status.idle": "2025-08-08T14:31:31.712354Z",
     "shell.execute_reply": "2025-08-08T14:31:31.710957Z"
    },
    "papermill": {
     "duration": 0.038265,
     "end_time": "2025-08-08T14:31:31.714325",
     "exception": false,
     "start_time": "2025-08-08T14:31:31.676060",
     "status": "completed"
    },
    "tags": []
   },
   "outputs": [
    {
     "name": "stdout",
     "output_type": "stream",
     "text": [
      "Selected Features:\n",
      "Index(['ModeratelyActiveDistance', 'LightActiveDistance',\n",
      "       'FairlyActiveMinutes', 'LightlyActiveMinutes', 'Calories'],\n",
      "      dtype='object')\n"
     ]
    }
   ],
   "source": [
    "# Choose top k features (start with k=5, tune later)\n",
    "selector = SelectKBest(score_func=f_classif, k=5)\n",
    "\n",
    "# Fit selector on unscaled data (before scaling)\n",
    "X_selected = selector.fit_transform(X, y)\n",
    "\n",
    "# Get selected feature names\n",
    "selected_features = X.columns[selector.get_support()]\n",
    "\n",
    "print(\"Selected Features:\")\n",
    "print(selected_features)"
   ]
  },
  {
   "cell_type": "code",
   "execution_count": 18,
   "id": "d43c1c45",
   "metadata": {
    "execution": {
     "iopub.execute_input": "2025-08-08T14:31:31.752013Z",
     "iopub.status.busy": "2025-08-08T14:31:31.751607Z",
     "iopub.status.idle": "2025-08-08T14:31:31.877684Z",
     "shell.execute_reply": "2025-08-08T14:31:31.876708Z"
    },
    "papermill": {
     "duration": 0.147617,
     "end_time": "2025-08-08T14:31:31.880034",
     "exception": false,
     "start_time": "2025-08-08T14:31:31.732417",
     "status": "completed"
    },
    "tags": []
   },
   "outputs": [
    {
     "name": "stdout",
     "output_type": "stream",
     "text": [
      "Accuracy: 0.9390243902439024\n",
      "Confusion Matrix:\n",
      " [[ 2  5]\n",
      " [ 0 75]]\n",
      "Classification Report:\n",
      "               precision    recall  f1-score   support\n",
      "\n",
      "           0       1.00      0.29      0.44         7\n",
      "           1       0.94      1.00      0.97        75\n",
      "\n",
      "    accuracy                           0.94        82\n",
      "   macro avg       0.97      0.64      0.71        82\n",
      "weighted avg       0.94      0.94      0.92        82\n",
      "\n"
     ]
    }
   ],
   "source": [
    "# Use only selected features\n",
    "X_selected_df = X[selected_features]\n",
    "\n",
    "# Train-test split\n",
    "X_train_sel, X_test_sel, y_train_sel, y_test_sel = train_test_split(\n",
    "    X_selected_df, y, test_size=0.2, stratify=y, random_state=42\n",
    ")\n",
    "\n",
    "# Scale\n",
    "scaler = StandardScaler()\n",
    "X_train_scaled_sel = scaler.fit_transform(X_train_sel)\n",
    "X_test_scaled_sel = scaler.transform(X_test_sel)\n",
    "\n",
    "# Train Logistic Regression with selected features\n",
    "lr = LogisticRegression()\n",
    "lr.fit(X_train_scaled_sel, y_train_sel)\n",
    "y_pred_sel = lr.predict(X_test_scaled_sel)\n",
    "\n",
    "# Evaluate\n",
    "\n",
    "print(\"Accuracy:\", accuracy_score(y_test_sel, y_pred_sel))\n",
    "\n",
    "# Confusion Matrix\n",
    "print(\"Confusion Matrix:\\n\", confusion_matrix(y_test_sel, y_pred_sel))\n",
    "\n",
    "# Classification Report\n",
    "print(\"Classification Report:\\n\", classification_report(y_test_sel, y_pred_sel))"
   ]
  },
  {
   "cell_type": "markdown",
   "id": "eaba70b7",
   "metadata": {
    "papermill": {
     "duration": 0.029267,
     "end_time": "2025-08-08T14:31:31.939766",
     "exception": false,
     "start_time": "2025-08-08T14:31:31.910499",
     "status": "completed"
    },
    "tags": []
   },
   "source": [
    "# Support vector machine\n"
   ]
  },
  {
   "cell_type": "code",
   "execution_count": 19,
   "id": "6e6d4fd0",
   "metadata": {
    "execution": {
     "iopub.execute_input": "2025-08-08T14:31:31.992021Z",
     "iopub.status.busy": "2025-08-08T14:31:31.990816Z",
     "iopub.status.idle": "2025-08-08T14:31:32.005195Z",
     "shell.execute_reply": "2025-08-08T14:31:32.004356Z"
    },
    "papermill": {
     "duration": 0.035924,
     "end_time": "2025-08-08T14:31:32.006942",
     "exception": false,
     "start_time": "2025-08-08T14:31:31.971018",
     "status": "completed"
    },
    "tags": []
   },
   "outputs": [],
   "source": [
    "# Use only selected features\n",
    "X_selected_df = X[selected_features]\n",
    "\n",
    "# Train-test split\n",
    "X_train_svm, X_test_svm, y_train_svm, y_test_svm = train_test_split(\n",
    "    X_selected_df, y, test_size=0.2, stratify=y, random_state=42\n",
    ")\n",
    "\n",
    "# Scale\n",
    "scaler = StandardScaler()\n",
    "X_train_svm_scaled = scaler.fit_transform(X_train_svm)\n",
    "X_test_svm_scaled = scaler.transform(X_test_svm)"
   ]
  },
  {
   "cell_type": "code",
   "execution_count": 20,
   "id": "9d5ca2c1",
   "metadata": {
    "execution": {
     "iopub.execute_input": "2025-08-08T14:31:32.045471Z",
     "iopub.status.busy": "2025-08-08T14:31:32.044784Z",
     "iopub.status.idle": "2025-08-08T14:31:32.051844Z",
     "shell.execute_reply": "2025-08-08T14:31:32.050801Z"
    },
    "papermill": {
     "duration": 0.027669,
     "end_time": "2025-08-08T14:31:32.053423",
     "exception": false,
     "start_time": "2025-08-08T14:31:32.025754",
     "status": "completed"
    },
    "tags": []
   },
   "outputs": [
    {
     "data": {
      "text/plain": [
       "array([[ 0.28648978, -0.82534414,  0.12039032, -0.90832167,  1.26795777],\n",
       "       [-0.73118673, -0.15651196, -0.78589221, -0.71059178,  0.52387383],\n",
       "       [ 0.4862206 , -0.64901567,  1.63086121, -0.71059178,  2.46983803],\n",
       "       ...,\n",
       "       [-0.10346104,  0.65216698, -0.09539124, -0.105044  ,  0.6030317 ],\n",
       "       [-0.73118673, -1.37865087, -0.78589221, -0.77238237, -1.36140266],\n",
       "       [ 0.74301744, -0.01666521,  0.63826605,  0.30277389, -0.41678547]])"
      ]
     },
     "execution_count": 20,
     "metadata": {},
     "output_type": "execute_result"
    }
   ],
   "source": [
    "X_train_svm_scaled"
   ]
  },
  {
   "cell_type": "markdown",
   "id": "83ae6af8",
   "metadata": {
    "papermill": {
     "duration": 0.017895,
     "end_time": "2025-08-08T14:31:32.089328",
     "exception": false,
     "start_time": "2025-08-08T14:31:32.071433",
     "status": "completed"
    },
    "tags": []
   },
   "source": [
    "**train svm model**"
   ]
  },
  {
   "cell_type": "code",
   "execution_count": 21,
   "id": "9017dac1",
   "metadata": {
    "execution": {
     "iopub.execute_input": "2025-08-08T14:31:32.127497Z",
     "iopub.status.busy": "2025-08-08T14:31:32.127027Z",
     "iopub.status.idle": "2025-08-08T14:31:32.140593Z",
     "shell.execute_reply": "2025-08-08T14:31:32.139607Z"
    },
    "papermill": {
     "duration": 0.034944,
     "end_time": "2025-08-08T14:31:32.142284",
     "exception": false,
     "start_time": "2025-08-08T14:31:32.107340",
     "status": "completed"
    },
    "tags": []
   },
   "outputs": [
    {
     "data": {
      "text/html": [
       "<style>#sk-container-id-2 {color: black;background-color: white;}#sk-container-id-2 pre{padding: 0;}#sk-container-id-2 div.sk-toggleable {background-color: white;}#sk-container-id-2 label.sk-toggleable__label {cursor: pointer;display: block;width: 100%;margin-bottom: 0;padding: 0.3em;box-sizing: border-box;text-align: center;}#sk-container-id-2 label.sk-toggleable__label-arrow:before {content: \"▸\";float: left;margin-right: 0.25em;color: #696969;}#sk-container-id-2 label.sk-toggleable__label-arrow:hover:before {color: black;}#sk-container-id-2 div.sk-estimator:hover label.sk-toggleable__label-arrow:before {color: black;}#sk-container-id-2 div.sk-toggleable__content {max-height: 0;max-width: 0;overflow: hidden;text-align: left;background-color: #f0f8ff;}#sk-container-id-2 div.sk-toggleable__content pre {margin: 0.2em;color: black;border-radius: 0.25em;background-color: #f0f8ff;}#sk-container-id-2 input.sk-toggleable__control:checked~div.sk-toggleable__content {max-height: 200px;max-width: 100%;overflow: auto;}#sk-container-id-2 input.sk-toggleable__control:checked~label.sk-toggleable__label-arrow:before {content: \"▾\";}#sk-container-id-2 div.sk-estimator input.sk-toggleable__control:checked~label.sk-toggleable__label {background-color: #d4ebff;}#sk-container-id-2 div.sk-label input.sk-toggleable__control:checked~label.sk-toggleable__label {background-color: #d4ebff;}#sk-container-id-2 input.sk-hidden--visually {border: 0;clip: rect(1px 1px 1px 1px);clip: rect(1px, 1px, 1px, 1px);height: 1px;margin: -1px;overflow: hidden;padding: 0;position: absolute;width: 1px;}#sk-container-id-2 div.sk-estimator {font-family: monospace;background-color: #f0f8ff;border: 1px dotted black;border-radius: 0.25em;box-sizing: border-box;margin-bottom: 0.5em;}#sk-container-id-2 div.sk-estimator:hover {background-color: #d4ebff;}#sk-container-id-2 div.sk-parallel-item::after {content: \"\";width: 100%;border-bottom: 1px solid gray;flex-grow: 1;}#sk-container-id-2 div.sk-label:hover label.sk-toggleable__label {background-color: #d4ebff;}#sk-container-id-2 div.sk-serial::before {content: \"\";position: absolute;border-left: 1px solid gray;box-sizing: border-box;top: 0;bottom: 0;left: 50%;z-index: 0;}#sk-container-id-2 div.sk-serial {display: flex;flex-direction: column;align-items: center;background-color: white;padding-right: 0.2em;padding-left: 0.2em;position: relative;}#sk-container-id-2 div.sk-item {position: relative;z-index: 1;}#sk-container-id-2 div.sk-parallel {display: flex;align-items: stretch;justify-content: center;background-color: white;position: relative;}#sk-container-id-2 div.sk-item::before, #sk-container-id-2 div.sk-parallel-item::before {content: \"\";position: absolute;border-left: 1px solid gray;box-sizing: border-box;top: 0;bottom: 0;left: 50%;z-index: -1;}#sk-container-id-2 div.sk-parallel-item {display: flex;flex-direction: column;z-index: 1;position: relative;background-color: white;}#sk-container-id-2 div.sk-parallel-item:first-child::after {align-self: flex-end;width: 50%;}#sk-container-id-2 div.sk-parallel-item:last-child::after {align-self: flex-start;width: 50%;}#sk-container-id-2 div.sk-parallel-item:only-child::after {width: 0;}#sk-container-id-2 div.sk-dashed-wrapped {border: 1px dashed gray;margin: 0 0.4em 0.5em 0.4em;box-sizing: border-box;padding-bottom: 0.4em;background-color: white;}#sk-container-id-2 div.sk-label label {font-family: monospace;font-weight: bold;display: inline-block;line-height: 1.2em;}#sk-container-id-2 div.sk-label-container {text-align: center;}#sk-container-id-2 div.sk-container {/* jupyter's `normalize.less` sets `[hidden] { display: none; }` but bootstrap.min.css set `[hidden] { display: none !important; }` so we also need the `!important` here to be able to override the default hidden behavior on the sphinx rendered scikit-learn.org. See: https://github.com/scikit-learn/scikit-learn/issues/21755 */display: inline-block !important;position: relative;}#sk-container-id-2 div.sk-text-repr-fallback {display: none;}</style><div id=\"sk-container-id-2\" class=\"sk-top-container\"><div class=\"sk-text-repr-fallback\"><pre>SVC(random_state=42)</pre><b>In a Jupyter environment, please rerun this cell to show the HTML representation or trust the notebook. <br />On GitHub, the HTML representation is unable to render, please try loading this page with nbviewer.org.</b></div><div class=\"sk-container\" hidden><div class=\"sk-item\"><div class=\"sk-estimator sk-toggleable\"><input class=\"sk-toggleable__control sk-hidden--visually\" id=\"sk-estimator-id-2\" type=\"checkbox\" checked><label for=\"sk-estimator-id-2\" class=\"sk-toggleable__label sk-toggleable__label-arrow\">SVC</label><div class=\"sk-toggleable__content\"><pre>SVC(random_state=42)</pre></div></div></div></div></div>"
      ],
      "text/plain": [
       "SVC(random_state=42)"
      ]
     },
     "execution_count": 21,
     "metadata": {},
     "output_type": "execute_result"
    }
   ],
   "source": [
    "# Initialize SVM with RBF kernel (can also try 'linear')\n",
    "svm_model = SVC(kernel='rbf', C=1.0, gamma='scale', random_state=42)\n",
    "\n",
    "# Train\n",
    "svm_model.fit(X_train_svm_scaled, y_train_svm)"
   ]
  },
  {
   "cell_type": "markdown",
   "id": "e0dd4c82",
   "metadata": {
    "papermill": {
     "duration": 0.017672,
     "end_time": "2025-08-08T14:31:32.178601",
     "exception": false,
     "start_time": "2025-08-08T14:31:32.160929",
     "status": "completed"
    },
    "tags": []
   },
   "source": [
    "**Make Prediction**"
   ]
  },
  {
   "cell_type": "code",
   "execution_count": 22,
   "id": "dbe234c7",
   "metadata": {
    "execution": {
     "iopub.execute_input": "2025-08-08T14:31:32.216058Z",
     "iopub.status.busy": "2025-08-08T14:31:32.215104Z",
     "iopub.status.idle": "2025-08-08T14:31:32.221577Z",
     "shell.execute_reply": "2025-08-08T14:31:32.220502Z"
    },
    "papermill": {
     "duration": 0.02777,
     "end_time": "2025-08-08T14:31:32.223864",
     "exception": false,
     "start_time": "2025-08-08T14:31:32.196094",
     "status": "completed"
    },
    "tags": []
   },
   "outputs": [],
   "source": [
    "# Predict\n",
    "y_pred_svm = svm_model.predict(X_train_svm_scaled)"
   ]
  },
  {
   "cell_type": "markdown",
   "id": "299ab47e",
   "metadata": {
    "papermill": {
     "duration": 0.018305,
     "end_time": "2025-08-08T14:31:32.260323",
     "exception": false,
     "start_time": "2025-08-08T14:31:32.242018",
     "status": "completed"
    },
    "tags": []
   },
   "source": [
    "**Evaluate the model based on test data**"
   ]
  },
  {
   "cell_type": "markdown",
   "id": "b4b73715",
   "metadata": {
    "papermill": {
     "duration": 0.017605,
     "end_time": "2025-08-08T14:31:32.296243",
     "exception": false,
     "start_time": "2025-08-08T14:31:32.278638",
     "status": "completed"
    },
    "tags": []
   },
   "source": [
    "**Make Prediction**"
   ]
  },
  {
   "cell_type": "code",
   "execution_count": 23,
   "id": "cf34a2cc",
   "metadata": {
    "execution": {
     "iopub.execute_input": "2025-08-08T14:31:32.335071Z",
     "iopub.status.busy": "2025-08-08T14:31:32.334704Z",
     "iopub.status.idle": "2025-08-08T14:31:32.340068Z",
     "shell.execute_reply": "2025-08-08T14:31:32.339105Z"
    },
    "papermill": {
     "duration": 0.027318,
     "end_time": "2025-08-08T14:31:32.341769",
     "exception": false,
     "start_time": "2025-08-08T14:31:32.314451",
     "status": "completed"
    },
    "tags": []
   },
   "outputs": [],
   "source": [
    "# Predict\n",
    "y_pred_svm = svm_model.predict(X_test_svm_scaled)\n"
   ]
  },
  {
   "cell_type": "code",
   "execution_count": 24,
   "id": "bd0952b4",
   "metadata": {
    "execution": {
     "iopub.execute_input": "2025-08-08T14:31:32.381330Z",
     "iopub.status.busy": "2025-08-08T14:31:32.380937Z",
     "iopub.status.idle": "2025-08-08T14:31:32.397408Z",
     "shell.execute_reply": "2025-08-08T14:31:32.396497Z"
    },
    "papermill": {
     "duration": 0.037807,
     "end_time": "2025-08-08T14:31:32.399225",
     "exception": false,
     "start_time": "2025-08-08T14:31:32.361418",
     "status": "completed"
    },
    "tags": []
   },
   "outputs": [
    {
     "name": "stdout",
     "output_type": "stream",
     "text": [
      " Accuracy: 0.9512195121951219\n",
      " Confusion Matrix:\n",
      " [[ 3  4]\n",
      " [ 0 75]]\n",
      " Classification Report:\n",
      "               precision    recall  f1-score   support\n",
      "\n",
      "           0       1.00      0.43      0.60         7\n",
      "           1       0.95      1.00      0.97        75\n",
      "\n",
      "    accuracy                           0.95        82\n",
      "   macro avg       0.97      0.71      0.79        82\n",
      "weighted avg       0.95      0.95      0.94        82\n",
      "\n"
     ]
    }
   ],
   "source": [
    "print(\" Accuracy:\", accuracy_score(y_test_svm, y_pred_svm))\n",
    "print(\" Confusion Matrix:\\n\", confusion_matrix(y_test_svm, y_pred_svm))\n",
    "print(\" Classification Report:\\n\", classification_report(y_test_svm, y_pred_svm))\n"
   ]
  },
  {
   "cell_type": "markdown",
   "id": "08f582f3",
   "metadata": {
    "papermill": {
     "duration": 0.017484,
     "end_time": "2025-08-08T14:31:32.434887",
     "exception": false,
     "start_time": "2025-08-08T14:31:32.417403",
     "status": "completed"
    },
    "tags": []
   },
   "source": [
    "**The SVM model achieved a high accuracy of 95.1%, indicating strong overall performance. It performed very well in predicting good sleep (class 1), with a recall of 1.00 and precision of 0.95, correctly identifying all 75 cases. However, performance on bad sleep (class 0) was limited, with a recall of just 0.43, meaning the model correctly identified only 3 out of 7 bad sleep instances. Despite perfect precision for class 0 (no false positives), the low recall suggests the model often misses bad sleep cases. This imbalance may be problematic if detecting poor sleep is a priority, so improving recall for class 0 should be considered.**"
   ]
  },
  {
   "cell_type": "markdown",
   "id": "7838e7b9",
   "metadata": {
    "papermill": {
     "duration": 0.017419,
     "end_time": "2025-08-08T14:31:32.469985",
     "exception": false,
     "start_time": "2025-08-08T14:31:32.452566",
     "status": "completed"
    },
    "tags": []
   },
   "source": [
    "# Random Forest"
   ]
  },
  {
   "cell_type": "code",
   "execution_count": 25,
   "id": "a8db2046",
   "metadata": {
    "execution": {
     "iopub.execute_input": "2025-08-08T14:31:32.507719Z",
     "iopub.status.busy": "2025-08-08T14:31:32.506824Z",
     "iopub.status.idle": "2025-08-08T14:31:32.517308Z",
     "shell.execute_reply": "2025-08-08T14:31:32.516386Z"
    },
    "papermill": {
     "duration": 0.031195,
     "end_time": "2025-08-08T14:31:32.518991",
     "exception": false,
     "start_time": "2025-08-08T14:31:32.487796",
     "status": "completed"
    },
    "tags": []
   },
   "outputs": [],
   "source": [
    "X_selected_df = X[selected_features]\n",
    "\n",
    "# Train-test split (same stratified logic)\n",
    "X_train_rf, X_test_rf, y_train_rf, y_test_rf = train_test_split(\n",
    "    X_selected_df, y, test_size=0.2, stratify=y, random_state=42\n",
    ")"
   ]
  },
  {
   "cell_type": "markdown",
   "id": "c404195c",
   "metadata": {
    "papermill": {
     "duration": 0.01824,
     "end_time": "2025-08-08T14:31:32.555628",
     "exception": false,
     "start_time": "2025-08-08T14:31:32.537388",
     "status": "completed"
    },
    "tags": []
   },
   "source": [
    "**Train Random Forest**"
   ]
  },
  {
   "cell_type": "code",
   "execution_count": 26,
   "id": "3f6490a6",
   "metadata": {
    "execution": {
     "iopub.execute_input": "2025-08-08T14:31:32.594979Z",
     "iopub.status.busy": "2025-08-08T14:31:32.594607Z",
     "iopub.status.idle": "2025-08-08T14:31:32.758100Z",
     "shell.execute_reply": "2025-08-08T14:31:32.757153Z"
    },
    "papermill": {
     "duration": 0.185853,
     "end_time": "2025-08-08T14:31:32.759933",
     "exception": false,
     "start_time": "2025-08-08T14:31:32.574080",
     "status": "completed"
    },
    "tags": []
   },
   "outputs": [
    {
     "data": {
      "text/html": [
       "<style>#sk-container-id-3 {color: black;background-color: white;}#sk-container-id-3 pre{padding: 0;}#sk-container-id-3 div.sk-toggleable {background-color: white;}#sk-container-id-3 label.sk-toggleable__label {cursor: pointer;display: block;width: 100%;margin-bottom: 0;padding: 0.3em;box-sizing: border-box;text-align: center;}#sk-container-id-3 label.sk-toggleable__label-arrow:before {content: \"▸\";float: left;margin-right: 0.25em;color: #696969;}#sk-container-id-3 label.sk-toggleable__label-arrow:hover:before {color: black;}#sk-container-id-3 div.sk-estimator:hover label.sk-toggleable__label-arrow:before {color: black;}#sk-container-id-3 div.sk-toggleable__content {max-height: 0;max-width: 0;overflow: hidden;text-align: left;background-color: #f0f8ff;}#sk-container-id-3 div.sk-toggleable__content pre {margin: 0.2em;color: black;border-radius: 0.25em;background-color: #f0f8ff;}#sk-container-id-3 input.sk-toggleable__control:checked~div.sk-toggleable__content {max-height: 200px;max-width: 100%;overflow: auto;}#sk-container-id-3 input.sk-toggleable__control:checked~label.sk-toggleable__label-arrow:before {content: \"▾\";}#sk-container-id-3 div.sk-estimator input.sk-toggleable__control:checked~label.sk-toggleable__label {background-color: #d4ebff;}#sk-container-id-3 div.sk-label input.sk-toggleable__control:checked~label.sk-toggleable__label {background-color: #d4ebff;}#sk-container-id-3 input.sk-hidden--visually {border: 0;clip: rect(1px 1px 1px 1px);clip: rect(1px, 1px, 1px, 1px);height: 1px;margin: -1px;overflow: hidden;padding: 0;position: absolute;width: 1px;}#sk-container-id-3 div.sk-estimator {font-family: monospace;background-color: #f0f8ff;border: 1px dotted black;border-radius: 0.25em;box-sizing: border-box;margin-bottom: 0.5em;}#sk-container-id-3 div.sk-estimator:hover {background-color: #d4ebff;}#sk-container-id-3 div.sk-parallel-item::after {content: \"\";width: 100%;border-bottom: 1px solid gray;flex-grow: 1;}#sk-container-id-3 div.sk-label:hover label.sk-toggleable__label {background-color: #d4ebff;}#sk-container-id-3 div.sk-serial::before {content: \"\";position: absolute;border-left: 1px solid gray;box-sizing: border-box;top: 0;bottom: 0;left: 50%;z-index: 0;}#sk-container-id-3 div.sk-serial {display: flex;flex-direction: column;align-items: center;background-color: white;padding-right: 0.2em;padding-left: 0.2em;position: relative;}#sk-container-id-3 div.sk-item {position: relative;z-index: 1;}#sk-container-id-3 div.sk-parallel {display: flex;align-items: stretch;justify-content: center;background-color: white;position: relative;}#sk-container-id-3 div.sk-item::before, #sk-container-id-3 div.sk-parallel-item::before {content: \"\";position: absolute;border-left: 1px solid gray;box-sizing: border-box;top: 0;bottom: 0;left: 50%;z-index: -1;}#sk-container-id-3 div.sk-parallel-item {display: flex;flex-direction: column;z-index: 1;position: relative;background-color: white;}#sk-container-id-3 div.sk-parallel-item:first-child::after {align-self: flex-end;width: 50%;}#sk-container-id-3 div.sk-parallel-item:last-child::after {align-self: flex-start;width: 50%;}#sk-container-id-3 div.sk-parallel-item:only-child::after {width: 0;}#sk-container-id-3 div.sk-dashed-wrapped {border: 1px dashed gray;margin: 0 0.4em 0.5em 0.4em;box-sizing: border-box;padding-bottom: 0.4em;background-color: white;}#sk-container-id-3 div.sk-label label {font-family: monospace;font-weight: bold;display: inline-block;line-height: 1.2em;}#sk-container-id-3 div.sk-label-container {text-align: center;}#sk-container-id-3 div.sk-container {/* jupyter's `normalize.less` sets `[hidden] { display: none; }` but bootstrap.min.css set `[hidden] { display: none !important; }` so we also need the `!important` here to be able to override the default hidden behavior on the sphinx rendered scikit-learn.org. See: https://github.com/scikit-learn/scikit-learn/issues/21755 */display: inline-block !important;position: relative;}#sk-container-id-3 div.sk-text-repr-fallback {display: none;}</style><div id=\"sk-container-id-3\" class=\"sk-top-container\"><div class=\"sk-text-repr-fallback\"><pre>RandomForestClassifier(random_state=42)</pre><b>In a Jupyter environment, please rerun this cell to show the HTML representation or trust the notebook. <br />On GitHub, the HTML representation is unable to render, please try loading this page with nbviewer.org.</b></div><div class=\"sk-container\" hidden><div class=\"sk-item\"><div class=\"sk-estimator sk-toggleable\"><input class=\"sk-toggleable__control sk-hidden--visually\" id=\"sk-estimator-id-3\" type=\"checkbox\" checked><label for=\"sk-estimator-id-3\" class=\"sk-toggleable__label sk-toggleable__label-arrow\">RandomForestClassifier</label><div class=\"sk-toggleable__content\"><pre>RandomForestClassifier(random_state=42)</pre></div></div></div></div></div>"
      ],
      "text/plain": [
       "RandomForestClassifier(random_state=42)"
      ]
     },
     "execution_count": 26,
     "metadata": {},
     "output_type": "execute_result"
    }
   ],
   "source": [
    "# Initialize the model\n",
    "rf_model = RandomForestClassifier(n_estimators=100, random_state=42)\n",
    "\n",
    "# Train\n",
    "rf_model.fit(X_train_rf, y_train_rf)"
   ]
  },
  {
   "cell_type": "markdown",
   "id": "1b4e9861",
   "metadata": {
    "papermill": {
     "duration": 0.018633,
     "end_time": "2025-08-08T14:31:32.797141",
     "exception": false,
     "start_time": "2025-08-08T14:31:32.778508",
     "status": "completed"
    },
    "tags": []
   },
   "source": [
    "**Make Prediction**"
   ]
  },
  {
   "cell_type": "code",
   "execution_count": 27,
   "id": "eed59321",
   "metadata": {
    "execution": {
     "iopub.execute_input": "2025-08-08T14:31:32.836143Z",
     "iopub.status.busy": "2025-08-08T14:31:32.835667Z",
     "iopub.status.idle": "2025-08-08T14:31:32.850847Z",
     "shell.execute_reply": "2025-08-08T14:31:32.849834Z"
    },
    "papermill": {
     "duration": 0.037593,
     "end_time": "2025-08-08T14:31:32.852980",
     "exception": false,
     "start_time": "2025-08-08T14:31:32.815387",
     "status": "completed"
    },
    "tags": []
   },
   "outputs": [],
   "source": [
    "# Predict\n",
    "y_pred_rf = rf_model.predict(X_test_rf)\n"
   ]
  },
  {
   "cell_type": "markdown",
   "id": "82691389",
   "metadata": {
    "papermill": {
     "duration": 0.030143,
     "end_time": "2025-08-08T14:31:32.902008",
     "exception": false,
     "start_time": "2025-08-08T14:31:32.871865",
     "status": "completed"
    },
    "tags": []
   },
   "source": [
    "**Evluate the model based on test data**"
   ]
  },
  {
   "cell_type": "code",
   "execution_count": 28,
   "id": "9a687cbd",
   "metadata": {
    "execution": {
     "iopub.execute_input": "2025-08-08T14:31:32.958668Z",
     "iopub.status.busy": "2025-08-08T14:31:32.958216Z",
     "iopub.status.idle": "2025-08-08T14:31:32.978657Z",
     "shell.execute_reply": "2025-08-08T14:31:32.977524Z"
    },
    "papermill": {
     "duration": 0.058047,
     "end_time": "2025-08-08T14:31:32.981091",
     "exception": false,
     "start_time": "2025-08-08T14:31:32.923044",
     "status": "completed"
    },
    "tags": []
   },
   "outputs": [
    {
     "name": "stdout",
     "output_type": "stream",
     "text": [
      " Accuracy: 0.9634146341463414\n",
      " Confusion Matrix:\n",
      " [[ 4  3]\n",
      " [ 0 75]]\n",
      " Classification Report:\n",
      "               precision    recall  f1-score   support\n",
      "\n",
      "           0       1.00      0.57      0.73         7\n",
      "           1       0.96      1.00      0.98        75\n",
      "\n",
      "    accuracy                           0.96        82\n",
      "   macro avg       0.98      0.79      0.85        82\n",
      "weighted avg       0.96      0.96      0.96        82\n",
      "\n"
     ]
    }
   ],
   "source": [
    "print(\" Accuracy:\", accuracy_score(y_test_rf, y_pred_rf))\n",
    "print(\" Confusion Matrix:\\n\", confusion_matrix(y_test_rf, y_pred_rf))\n",
    "print(\" Classification Report:\\n\", classification_report(y_test_rf, y_pred_rf))"
   ]
  },
  {
   "cell_type": "markdown",
   "id": "68d0cc18",
   "metadata": {
    "papermill": {
     "duration": 0.031979,
     "end_time": "2025-08-08T14:31:33.034189",
     "exception": false,
     "start_time": "2025-08-08T14:31:33.002210",
     "status": "completed"
    },
    "tags": []
   },
   "source": [
    "**The Random Forest model achieved a strong accuracy of 96.3%, showing overall good performance. It predicted good sleep (class 1) extremely well, with a recall of 1.00 and precision of 0.96, successfully identifying all 75 cases. For bad sleep (class 0), the model had perfect precision (1.00) but a recall of 0.57, meaning it correctly detected only 4 out of 7 bad sleep cases. This indicates the model is very confident when it predicts bad sleep, but still misses some actual bad cases. While the overall results are solid, especially for class 1, there's room to improve recall for class 0 to ensure poor sleep is more reliably identified.**"
   ]
  },
  {
   "cell_type": "markdown",
   "id": "6d370a69",
   "metadata": {
    "papermill": {
     "duration": 0.030902,
     "end_time": "2025-08-08T14:31:33.096492",
     "exception": false,
     "start_time": "2025-08-08T14:31:33.065590",
     "status": "completed"
    },
    "tags": []
   },
   "source": [
    "# XG Boost"
   ]
  },
  {
   "cell_type": "code",
   "execution_count": 29,
   "id": "589ea8ce",
   "metadata": {
    "execution": {
     "iopub.execute_input": "2025-08-08T14:31:33.159590Z",
     "iopub.status.busy": "2025-08-08T14:31:33.158691Z",
     "iopub.status.idle": "2025-08-08T14:31:33.168734Z",
     "shell.execute_reply": "2025-08-08T14:31:33.167485Z"
    },
    "papermill": {
     "duration": 0.043339,
     "end_time": "2025-08-08T14:31:33.171365",
     "exception": false,
     "start_time": "2025-08-08T14:31:33.128026",
     "status": "completed"
    },
    "tags": []
   },
   "outputs": [],
   "source": [
    "# Select features\n",
    "X_selected_df = X[selected_features]\n",
    "\n",
    "# Split data\n",
    "X_train_xgb, X_test_xgb, y_train_xgb, y_test_xgb = train_test_split(\n",
    "    X_selected_df, y, test_size=0.2, stratify=y, random_state=42\n",
    ")"
   ]
  },
  {
   "cell_type": "markdown",
   "id": "09d6bf68",
   "metadata": {
    "papermill": {
     "duration": 0.018869,
     "end_time": "2025-08-08T14:31:33.216069",
     "exception": false,
     "start_time": "2025-08-08T14:31:33.197200",
     "status": "completed"
    },
    "tags": []
   },
   "source": [
    "**Train XGBoost**"
   ]
  },
  {
   "cell_type": "code",
   "execution_count": 30,
   "id": "79bfeff3",
   "metadata": {
    "execution": {
     "iopub.execute_input": "2025-08-08T14:31:33.256450Z",
     "iopub.status.busy": "2025-08-08T14:31:33.256032Z",
     "iopub.status.idle": "2025-08-08T14:31:33.623044Z",
     "shell.execute_reply": "2025-08-08T14:31:33.622257Z"
    },
    "papermill": {
     "duration": 0.389932,
     "end_time": "2025-08-08T14:31:33.625864",
     "exception": false,
     "start_time": "2025-08-08T14:31:33.235932",
     "status": "completed"
    },
    "tags": []
   },
   "outputs": [
    {
     "data": {
      "text/html": [
       "<style>#sk-container-id-4 {color: black;background-color: white;}#sk-container-id-4 pre{padding: 0;}#sk-container-id-4 div.sk-toggleable {background-color: white;}#sk-container-id-4 label.sk-toggleable__label {cursor: pointer;display: block;width: 100%;margin-bottom: 0;padding: 0.3em;box-sizing: border-box;text-align: center;}#sk-container-id-4 label.sk-toggleable__label-arrow:before {content: \"▸\";float: left;margin-right: 0.25em;color: #696969;}#sk-container-id-4 label.sk-toggleable__label-arrow:hover:before {color: black;}#sk-container-id-4 div.sk-estimator:hover label.sk-toggleable__label-arrow:before {color: black;}#sk-container-id-4 div.sk-toggleable__content {max-height: 0;max-width: 0;overflow: hidden;text-align: left;background-color: #f0f8ff;}#sk-container-id-4 div.sk-toggleable__content pre {margin: 0.2em;color: black;border-radius: 0.25em;background-color: #f0f8ff;}#sk-container-id-4 input.sk-toggleable__control:checked~div.sk-toggleable__content {max-height: 200px;max-width: 100%;overflow: auto;}#sk-container-id-4 input.sk-toggleable__control:checked~label.sk-toggleable__label-arrow:before {content: \"▾\";}#sk-container-id-4 div.sk-estimator input.sk-toggleable__control:checked~label.sk-toggleable__label {background-color: #d4ebff;}#sk-container-id-4 div.sk-label input.sk-toggleable__control:checked~label.sk-toggleable__label {background-color: #d4ebff;}#sk-container-id-4 input.sk-hidden--visually {border: 0;clip: rect(1px 1px 1px 1px);clip: rect(1px, 1px, 1px, 1px);height: 1px;margin: -1px;overflow: hidden;padding: 0;position: absolute;width: 1px;}#sk-container-id-4 div.sk-estimator {font-family: monospace;background-color: #f0f8ff;border: 1px dotted black;border-radius: 0.25em;box-sizing: border-box;margin-bottom: 0.5em;}#sk-container-id-4 div.sk-estimator:hover {background-color: #d4ebff;}#sk-container-id-4 div.sk-parallel-item::after {content: \"\";width: 100%;border-bottom: 1px solid gray;flex-grow: 1;}#sk-container-id-4 div.sk-label:hover label.sk-toggleable__label {background-color: #d4ebff;}#sk-container-id-4 div.sk-serial::before {content: \"\";position: absolute;border-left: 1px solid gray;box-sizing: border-box;top: 0;bottom: 0;left: 50%;z-index: 0;}#sk-container-id-4 div.sk-serial {display: flex;flex-direction: column;align-items: center;background-color: white;padding-right: 0.2em;padding-left: 0.2em;position: relative;}#sk-container-id-4 div.sk-item {position: relative;z-index: 1;}#sk-container-id-4 div.sk-parallel {display: flex;align-items: stretch;justify-content: center;background-color: white;position: relative;}#sk-container-id-4 div.sk-item::before, #sk-container-id-4 div.sk-parallel-item::before {content: \"\";position: absolute;border-left: 1px solid gray;box-sizing: border-box;top: 0;bottom: 0;left: 50%;z-index: -1;}#sk-container-id-4 div.sk-parallel-item {display: flex;flex-direction: column;z-index: 1;position: relative;background-color: white;}#sk-container-id-4 div.sk-parallel-item:first-child::after {align-self: flex-end;width: 50%;}#sk-container-id-4 div.sk-parallel-item:last-child::after {align-self: flex-start;width: 50%;}#sk-container-id-4 div.sk-parallel-item:only-child::after {width: 0;}#sk-container-id-4 div.sk-dashed-wrapped {border: 1px dashed gray;margin: 0 0.4em 0.5em 0.4em;box-sizing: border-box;padding-bottom: 0.4em;background-color: white;}#sk-container-id-4 div.sk-label label {font-family: monospace;font-weight: bold;display: inline-block;line-height: 1.2em;}#sk-container-id-4 div.sk-label-container {text-align: center;}#sk-container-id-4 div.sk-container {/* jupyter's `normalize.less` sets `[hidden] { display: none; }` but bootstrap.min.css set `[hidden] { display: none !important; }` so we also need the `!important` here to be able to override the default hidden behavior on the sphinx rendered scikit-learn.org. See: https://github.com/scikit-learn/scikit-learn/issues/21755 */display: inline-block !important;position: relative;}#sk-container-id-4 div.sk-text-repr-fallback {display: none;}</style><div id=\"sk-container-id-4\" class=\"sk-top-container\"><div class=\"sk-text-repr-fallback\"><pre>XGBClassifier(base_score=None, booster=None, callbacks=None,\n",
       "              colsample_bylevel=None, colsample_bynode=None,\n",
       "              colsample_bytree=None, device=None, early_stopping_rounds=None,\n",
       "              enable_categorical=False, eval_metric=&#x27;logloss&#x27;,\n",
       "              feature_types=None, gamma=None, grow_policy=None,\n",
       "              importance_type=None, interaction_constraints=None,\n",
       "              learning_rate=None, max_bin=None, max_cat_threshold=None,\n",
       "              max_cat_to_onehot=None, max_delta_step=None, max_depth=None,\n",
       "              max_leaves=None, min_child_weight=None, missing=nan,\n",
       "              monotone_constraints=None, multi_strategy=None, n_estimators=None,\n",
       "              n_jobs=None, num_parallel_tree=None, random_state=42, ...)</pre><b>In a Jupyter environment, please rerun this cell to show the HTML representation or trust the notebook. <br />On GitHub, the HTML representation is unable to render, please try loading this page with nbviewer.org.</b></div><div class=\"sk-container\" hidden><div class=\"sk-item\"><div class=\"sk-estimator sk-toggleable\"><input class=\"sk-toggleable__control sk-hidden--visually\" id=\"sk-estimator-id-4\" type=\"checkbox\" checked><label for=\"sk-estimator-id-4\" class=\"sk-toggleable__label sk-toggleable__label-arrow\">XGBClassifier</label><div class=\"sk-toggleable__content\"><pre>XGBClassifier(base_score=None, booster=None, callbacks=None,\n",
       "              colsample_bylevel=None, colsample_bynode=None,\n",
       "              colsample_bytree=None, device=None, early_stopping_rounds=None,\n",
       "              enable_categorical=False, eval_metric=&#x27;logloss&#x27;,\n",
       "              feature_types=None, gamma=None, grow_policy=None,\n",
       "              importance_type=None, interaction_constraints=None,\n",
       "              learning_rate=None, max_bin=None, max_cat_threshold=None,\n",
       "              max_cat_to_onehot=None, max_delta_step=None, max_depth=None,\n",
       "              max_leaves=None, min_child_weight=None, missing=nan,\n",
       "              monotone_constraints=None, multi_strategy=None, n_estimators=None,\n",
       "              n_jobs=None, num_parallel_tree=None, random_state=42, ...)</pre></div></div></div></div></div>"
      ],
      "text/plain": [
       "XGBClassifier(base_score=None, booster=None, callbacks=None,\n",
       "              colsample_bylevel=None, colsample_bynode=None,\n",
       "              colsample_bytree=None, device=None, early_stopping_rounds=None,\n",
       "              enable_categorical=False, eval_metric='logloss',\n",
       "              feature_types=None, gamma=None, grow_policy=None,\n",
       "              importance_type=None, interaction_constraints=None,\n",
       "              learning_rate=None, max_bin=None, max_cat_threshold=None,\n",
       "              max_cat_to_onehot=None, max_delta_step=None, max_depth=None,\n",
       "              max_leaves=None, min_child_weight=None, missing=nan,\n",
       "              monotone_constraints=None, multi_strategy=None, n_estimators=None,\n",
       "              n_jobs=None, num_parallel_tree=None, random_state=42, ...)"
      ]
     },
     "execution_count": 30,
     "metadata": {},
     "output_type": "execute_result"
    }
   ],
   "source": [
    "# Initialize model\n",
    "xgb_model = XGBClassifier(use_label_encoder=False, eval_metric='logloss', random_state=42)\n",
    "\n",
    "# Train model\n",
    "xgb_model.fit(X_train_xgb, y_train_xgb)\n"
   ]
  },
  {
   "cell_type": "markdown",
   "id": "50e782bd",
   "metadata": {
    "papermill": {
     "duration": 0.019157,
     "end_time": "2025-08-08T14:31:33.665454",
     "exception": false,
     "start_time": "2025-08-08T14:31:33.646297",
     "status": "completed"
    },
    "tags": []
   },
   "source": [
    "**Make Prediction**"
   ]
  },
  {
   "cell_type": "code",
   "execution_count": 31,
   "id": "872a0ffc",
   "metadata": {
    "execution": {
     "iopub.execute_input": "2025-08-08T14:31:33.706574Z",
     "iopub.status.busy": "2025-08-08T14:31:33.706123Z",
     "iopub.status.idle": "2025-08-08T14:31:33.729569Z",
     "shell.execute_reply": "2025-08-08T14:31:33.726143Z"
    },
    "papermill": {
     "duration": 0.04777,
     "end_time": "2025-08-08T14:31:33.733157",
     "exception": false,
     "start_time": "2025-08-08T14:31:33.685387",
     "status": "completed"
    },
    "tags": []
   },
   "outputs": [],
   "source": [
    "y_pred_xgb = xgb_model.predict(X_test_xgb)\n"
   ]
  },
  {
   "cell_type": "markdown",
   "id": "6cba1431",
   "metadata": {
    "papermill": {
     "duration": 0.018782,
     "end_time": "2025-08-08T14:31:33.777738",
     "exception": false,
     "start_time": "2025-08-08T14:31:33.758956",
     "status": "completed"
    },
    "tags": []
   },
   "source": [
    "**Evaluate the model based on test dat**"
   ]
  },
  {
   "cell_type": "code",
   "execution_count": 32,
   "id": "e2d402aa",
   "metadata": {
    "execution": {
     "iopub.execute_input": "2025-08-08T14:31:33.817529Z",
     "iopub.status.busy": "2025-08-08T14:31:33.817101Z",
     "iopub.status.idle": "2025-08-08T14:31:33.834368Z",
     "shell.execute_reply": "2025-08-08T14:31:33.832996Z"
    },
    "papermill": {
     "duration": 0.039915,
     "end_time": "2025-08-08T14:31:33.836798",
     "exception": false,
     "start_time": "2025-08-08T14:31:33.796883",
     "status": "completed"
    },
    "tags": []
   },
   "outputs": [
    {
     "name": "stdout",
     "output_type": "stream",
     "text": [
      "Accuracy: 0.9878048780487805\n",
      "Confusion Matrix:\n",
      " [[ 6  1]\n",
      " [ 0 75]]\n",
      "Classification Report:\n",
      "               precision    recall  f1-score   support\n",
      "\n",
      "           0       1.00      0.86      0.92         7\n",
      "           1       0.99      1.00      0.99        75\n",
      "\n",
      "    accuracy                           0.99        82\n",
      "   macro avg       0.99      0.93      0.96        82\n",
      "weighted avg       0.99      0.99      0.99        82\n",
      "\n"
     ]
    }
   ],
   "source": [
    "print(\"Accuracy:\", accuracy_score(y_test_xgb, y_pred_xgb))\n",
    "print(\"Confusion Matrix:\\n\", confusion_matrix(y_test_xgb, y_pred_xgb))\n",
    "print(\"Classification Report:\\n\", classification_report(y_test_xgb, y_pred_xgb))"
   ]
  },
  {
   "cell_type": "markdown",
   "id": "24e9c64d",
   "metadata": {
    "papermill": {
     "duration": 0.019099,
     "end_time": "2025-08-08T14:31:33.877825",
     "exception": false,
     "start_time": "2025-08-08T14:31:33.858726",
     "status": "completed"
    },
    "tags": []
   },
   "source": [
    "**The XGBoost model achieved an excellent accuracy of 98.78%, indicating outstanding overall performance. It predicted good sleep (class 1) almost perfectly, with recall = 1.00 and precision = 0.99, correctly identifying all 75 instances. Importantly, it also performed very well on bad sleep (class 0), with a recall of 0.86 and precision of 1.00, correctly detecting 6 out of 7 cases. Compared to other models, XGBoost provides the best balance between precision and recall across both classes, making it highly effective and reliable for predicting sleep quality in this dataset.**"
   ]
  },
  {
   "cell_type": "markdown",
   "id": "dc5ff2b7",
   "metadata": {
    "papermill": {
     "duration": 0.019239,
     "end_time": "2025-08-08T14:31:33.915773",
     "exception": false,
     "start_time": "2025-08-08T14:31:33.896534",
     "status": "completed"
    },
    "tags": []
   },
   "source": [
    "**Cross Validation**"
   ]
  },
  {
   "cell_type": "code",
   "execution_count": 33,
   "id": "01fb80d5",
   "metadata": {
    "execution": {
     "iopub.execute_input": "2025-08-08T14:31:33.954668Z",
     "iopub.status.busy": "2025-08-08T14:31:33.954310Z",
     "iopub.status.idle": "2025-08-08T14:31:34.853999Z",
     "shell.execute_reply": "2025-08-08T14:31:34.852960Z"
    },
    "papermill": {
     "duration": 0.921142,
     "end_time": "2025-08-08T14:31:34.855612",
     "exception": false,
     "start_time": "2025-08-08T14:31:33.934470",
     "status": "completed"
    },
    "tags": []
   },
   "outputs": [
    {
     "name": "stdout",
     "output_type": "stream",
     "text": [
      "Cross-Validation Scores: [0.92682927 1.         0.98780488 0.97560976 0.98780488]\n",
      "Mean Accuracy: 0.975609756097561\n",
      "Standard Deviation: 0.025580703613906113\n"
     ]
    }
   ],
   "source": [
    "\n",
    "# Perform 5-fold cross-validation\n",
    "cv_scores = cross_val_score(xgb_model, X_selected_df, y, cv=5, scoring='accuracy')\n",
    "\n",
    "# Print results\n",
    "print(\"Cross-Validation Scores:\", cv_scores)\n",
    "print(\"Mean Accuracy:\", cv_scores.mean())\n",
    "print(\"Standard Deviation:\", cv_scores.std())\n"
   ]
  },
  {
   "cell_type": "markdown",
   "id": "c7de4567",
   "metadata": {
    "papermill": {
     "duration": 0.027762,
     "end_time": "2025-08-08T14:31:34.906565",
     "exception": false,
     "start_time": "2025-08-08T14:31:34.878803",
     "status": "completed"
    },
    "tags": []
   },
   "source": [
    "**The cross-validation scores for the XGBoost model are consistently high, ranging from 92.7% to 100%, indicating stable and strong performance across different data splits. The mean accuracy of 97.56% shows that the model generalizes well, while the low standard deviation (≈ 2.56%) suggests that performance is consistent and not highly sensitive to the training data. This reinforces that the XGBoost model is both accurate and reliable for predicting sleep quality.**"
   ]
  },
  {
   "cell_type": "code",
   "execution_count": 34,
   "id": "03355c48",
   "metadata": {
    "execution": {
     "iopub.execute_input": "2025-08-08T14:31:34.948669Z",
     "iopub.status.busy": "2025-08-08T14:31:34.947264Z",
     "iopub.status.idle": "2025-08-08T14:31:34.961486Z",
     "shell.execute_reply": "2025-08-08T14:31:34.959259Z"
    },
    "papermill": {
     "duration": 0.03754,
     "end_time": "2025-08-08T14:31:34.963650",
     "exception": false,
     "start_time": "2025-08-08T14:31:34.926110",
     "status": "completed"
    },
    "tags": []
   },
   "outputs": [
    {
     "data": {
      "text/plain": [
       "['sleep_quality_model.pkl']"
      ]
     },
     "execution_count": 34,
     "metadata": {},
     "output_type": "execute_result"
    }
   ],
   "source": [
    "import joblib\n",
    "\n",
    "joblib.dump(xgb_model, 'sleep_quality_model.pkl')\n"
   ]
  }
 ],
 "metadata": {
  "kaggle": {
   "accelerator": "none",
   "dataSources": [
    {
     "datasetId": 7979435,
     "sourceId": 12628640,
     "sourceType": "datasetVersion"
    }
   ],
   "dockerImageVersionId": 31089,
   "isGpuEnabled": false,
   "isInternetEnabled": false,
   "language": "python",
   "sourceType": "notebook"
  },
  "kernelspec": {
   "display_name": "Python 3",
   "language": "python",
   "name": "python3"
  },
  "language_info": {
   "codemirror_mode": {
    "name": "ipython",
    "version": 3
   },
   "file_extension": ".py",
   "mimetype": "text/x-python",
   "name": "python",
   "nbconvert_exporter": "python",
   "pygments_lexer": "ipython3",
   "version": "3.11.13"
  },
  "papermill": {
   "default_parameters": {},
   "duration": 18.04612,
   "end_time": "2025-08-08T14:31:36.110479",
   "environment_variables": {},
   "exception": null,
   "input_path": "__notebook__.ipynb",
   "output_path": "__notebook__.ipynb",
   "parameters": {},
   "start_time": "2025-08-08T14:31:18.064359",
   "version": "2.6.0"
  }
 },
 "nbformat": 4,
 "nbformat_minor": 5
}
